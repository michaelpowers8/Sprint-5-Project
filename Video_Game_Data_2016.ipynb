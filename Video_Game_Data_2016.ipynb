{
 "cells": [
  {
   "cell_type": "markdown",
   "metadata": {},
   "source": [
    "# Video Game Data Analysis"
   ]
  },
  {
   "cell_type": "markdown",
   "metadata": {},
   "source": [
    "The data from the ESRB will be analyzed in this notebook. After analysis is completed, it will be clearer which games succeeded and which did not. Also, it will help with advertising for the sales of video games next year."
   ]
  },
  {
   "cell_type": "markdown",
   "metadata": {},
   "source": [
    "## Preprocessing"
   ]
  },
  {
   "cell_type": "markdown",
   "metadata": {},
   "source": [
    "### Initialization"
   ]
  },
  {
   "cell_type": "code",
   "execution_count": 293,
   "metadata": {},
   "outputs": [],
   "source": [
    "import pandas as pd\n",
    "#import streamlit as st\n",
    "from matplotlib import pyplot as plt\n",
    "from scipy import stats\n",
    "import numpy as np\n",
    "import random\n",
    "import math"
   ]
  },
  {
   "cell_type": "markdown",
   "metadata": {},
   "source": [
    "### Load Data "
   ]
  },
  {
   "cell_type": "code",
   "execution_count": 294,
   "metadata": {},
   "outputs": [],
   "source": [
    "df_games = pd.read_csv('moved_games.csv')"
   ]
  },
  {
   "cell_type": "markdown",
   "metadata": {},
   "source": [
    "### Preparing Data"
   ]
  },
  {
   "cell_type": "code",
   "execution_count": 295,
   "metadata": {},
   "outputs": [
    {
     "name": "stdout",
     "output_type": "stream",
     "text": [
      "<class 'pandas.core.frame.DataFrame'>\n",
      "RangeIndex: 16715 entries, 0 to 16714\n",
      "Data columns (total 11 columns):\n",
      " #   Column           Non-Null Count  Dtype  \n",
      "---  ------           --------------  -----  \n",
      " 0   Name             16713 non-null  object \n",
      " 1   Platform         16715 non-null  object \n",
      " 2   Year_of_Release  16446 non-null  float64\n",
      " 3   Genre            16713 non-null  object \n",
      " 4   NA_sales         16715 non-null  float64\n",
      " 5   EU_sales         16715 non-null  float64\n",
      " 6   JP_sales         16715 non-null  float64\n",
      " 7   Other_sales      16715 non-null  float64\n",
      " 8   Critic_Score     8137 non-null   float64\n",
      " 9   User_Score       10014 non-null  object \n",
      " 10  Rating           9949 non-null   object \n",
      "dtypes: float64(6), object(5)\n",
      "memory usage: 1.4+ MB\n"
     ]
    },
    {
     "data": {
      "text/plain": [
       "None"
      ]
     },
     "metadata": {},
     "output_type": "display_data"
    },
    {
     "data": {
      "text/html": [
       "<div>\n",
       "<style scoped>\n",
       "    .dataframe tbody tr th:only-of-type {\n",
       "        vertical-align: middle;\n",
       "    }\n",
       "\n",
       "    .dataframe tbody tr th {\n",
       "        vertical-align: top;\n",
       "    }\n",
       "\n",
       "    .dataframe thead th {\n",
       "        text-align: right;\n",
       "    }\n",
       "</style>\n",
       "<table border=\"1\" class=\"dataframe\">\n",
       "  <thead>\n",
       "    <tr style=\"text-align: right;\">\n",
       "      <th></th>\n",
       "      <th>Name</th>\n",
       "      <th>Platform</th>\n",
       "      <th>Year_of_Release</th>\n",
       "      <th>Genre</th>\n",
       "      <th>NA_sales</th>\n",
       "      <th>EU_sales</th>\n",
       "      <th>JP_sales</th>\n",
       "      <th>Other_sales</th>\n",
       "      <th>Critic_Score</th>\n",
       "      <th>User_Score</th>\n",
       "      <th>Rating</th>\n",
       "    </tr>\n",
       "  </thead>\n",
       "  <tbody>\n",
       "    <tr>\n",
       "      <th>0</th>\n",
       "      <td>Wii Sports</td>\n",
       "      <td>Wii</td>\n",
       "      <td>2006.0</td>\n",
       "      <td>Sports</td>\n",
       "      <td>41.36</td>\n",
       "      <td>28.96</td>\n",
       "      <td>3.77</td>\n",
       "      <td>8.45</td>\n",
       "      <td>76.0</td>\n",
       "      <td>8</td>\n",
       "      <td>E</td>\n",
       "    </tr>\n",
       "    <tr>\n",
       "      <th>1</th>\n",
       "      <td>Super Mario Bros.</td>\n",
       "      <td>NES</td>\n",
       "      <td>1985.0</td>\n",
       "      <td>Platform</td>\n",
       "      <td>29.08</td>\n",
       "      <td>3.58</td>\n",
       "      <td>6.81</td>\n",
       "      <td>0.77</td>\n",
       "      <td>NaN</td>\n",
       "      <td>NaN</td>\n",
       "      <td>NaN</td>\n",
       "    </tr>\n",
       "    <tr>\n",
       "      <th>2</th>\n",
       "      <td>Mario Kart Wii</td>\n",
       "      <td>Wii</td>\n",
       "      <td>2008.0</td>\n",
       "      <td>Racing</td>\n",
       "      <td>15.68</td>\n",
       "      <td>12.76</td>\n",
       "      <td>3.79</td>\n",
       "      <td>3.29</td>\n",
       "      <td>82.0</td>\n",
       "      <td>8.3</td>\n",
       "      <td>E</td>\n",
       "    </tr>\n",
       "    <tr>\n",
       "      <th>3</th>\n",
       "      <td>Wii Sports Resort</td>\n",
       "      <td>Wii</td>\n",
       "      <td>2009.0</td>\n",
       "      <td>Sports</td>\n",
       "      <td>15.61</td>\n",
       "      <td>10.93</td>\n",
       "      <td>3.28</td>\n",
       "      <td>2.95</td>\n",
       "      <td>80.0</td>\n",
       "      <td>8</td>\n",
       "      <td>E</td>\n",
       "    </tr>\n",
       "    <tr>\n",
       "      <th>4</th>\n",
       "      <td>Pokemon Red/Pokemon Blue</td>\n",
       "      <td>GB</td>\n",
       "      <td>1996.0</td>\n",
       "      <td>Role-Playing</td>\n",
       "      <td>11.27</td>\n",
       "      <td>8.89</td>\n",
       "      <td>10.22</td>\n",
       "      <td>1.00</td>\n",
       "      <td>NaN</td>\n",
       "      <td>NaN</td>\n",
       "      <td>NaN</td>\n",
       "    </tr>\n",
       "  </tbody>\n",
       "</table>\n",
       "</div>"
      ],
      "text/plain": [
       "                       Name Platform  Year_of_Release         Genre  NA_sales  \\\n",
       "0                Wii Sports      Wii           2006.0        Sports     41.36   \n",
       "1         Super Mario Bros.      NES           1985.0      Platform     29.08   \n",
       "2            Mario Kart Wii      Wii           2008.0        Racing     15.68   \n",
       "3         Wii Sports Resort      Wii           2009.0        Sports     15.61   \n",
       "4  Pokemon Red/Pokemon Blue       GB           1996.0  Role-Playing     11.27   \n",
       "\n",
       "   EU_sales  JP_sales  Other_sales  Critic_Score User_Score Rating  \n",
       "0     28.96      3.77         8.45          76.0          8      E  \n",
       "1      3.58      6.81         0.77           NaN        NaN    NaN  \n",
       "2     12.76      3.79         3.29          82.0        8.3      E  \n",
       "3     10.93      3.28         2.95          80.0          8      E  \n",
       "4      8.89     10.22         1.00           NaN        NaN    NaN  "
      ]
     },
     "metadata": {},
     "output_type": "display_data"
    }
   ],
   "source": [
    "display(df_games.info())\n",
    "display(df_games.head(5))"
   ]
  },
  {
   "cell_type": "code",
   "execution_count": 296,
   "metadata": {},
   "outputs": [
    {
     "data": {
      "text/plain": [
       "Index(['Name', 'Platform', 'Year_of_Release', 'Genre', 'NA_sales', 'EU_sales',\n",
       "       'JP_sales', 'Other_sales', 'Critic_Score', 'User_Score', 'Rating'],\n",
       "      dtype='object')"
      ]
     },
     "metadata": {},
     "output_type": "display_data"
    }
   ],
   "source": [
    "display(df_games.columns)"
   ]
  },
  {
   "cell_type": "code",
   "execution_count": 297,
   "metadata": {},
   "outputs": [
    {
     "data": {
      "text/plain": [
       "Index(['name', 'platform', 'year_of_release', 'genre', 'na_sales', 'eu_sales',\n",
       "       'jp_sales', 'other_sales', 'critic_score', 'user_score', 'rating'],\n",
       "      dtype='object')"
      ]
     },
     "metadata": {},
     "output_type": "display_data"
    }
   ],
   "source": [
    "df_games = df_games.rename(\n",
    "    columns={'Name':'name',\n",
    "             'Platform':'platform',\n",
    "             'Year_of_Release':'year_of_release',\n",
    "             'Genre':'genre',\n",
    "             'NA_sales':'na_sales',\n",
    "             \"EU_sales\":'eu_sales',\n",
    "             'JP_sales':'jp_sales',\n",
    "             'Other_sales':'other_sales',\n",
    "             'Critic_Score':'critic_score',\n",
    "             'User_Score':'user_score',\n",
    "             'Rating':'rating'})\n",
    "display(df_games.columns)"
   ]
  },
  {
   "cell_type": "code",
   "execution_count": 298,
   "metadata": {},
   "outputs": [
    {
     "data": {
      "text/plain": [
       "array(['8', nan, '8.3', '8.5', '6.6', '8.4', '8.6', '7.7', '6.3', '7.4',\n",
       "       '8.2', '9', '7.9', '8.1', '8.7', '7.1', '3.4', '5.3', '4.8', '3.2',\n",
       "       '8.9', '6.4', '7.8', '7.5', '2.6', '7.2', '9.2', '7', '7.3', '4.3',\n",
       "       '7.6', '5.7', '5', '9.1', '6.5', 'tbd', '8.8', '6.9', '9.4', '6.8',\n",
       "       '6.1', '6.7', '5.4', '4', '4.9', '4.5', '9.3', '6.2', '4.2', '6',\n",
       "       '3.7', '4.1', '5.8', '5.6', '5.5', '4.4', '4.6', '5.9', '3.9',\n",
       "       '3.1', '2.9', '5.2', '3.3', '4.7', '5.1', '3.5', '2.5', '1.9', '3',\n",
       "       '2.7', '2.2', '2', '9.5', '2.1', '3.6', '2.8', '1.8', '3.8', '0',\n",
       "       '1.6', '9.6', '2.4', '1.7', '1.1', '0.3', '1.5', '0.7', '1.2',\n",
       "       '2.3', '0.5', '1.3', '0.2', '0.6', '1.4', '0.9', '1', '9.7'],\n",
       "      dtype=object)"
      ]
     },
     "metadata": {},
     "output_type": "display_data"
    },
    {
     "data": {
      "text/plain": [
       "array([76., nan, 82., 80., 89., 58., 87., 91., 61., 97., 95., 77., 88.,\n",
       "       83., 94., 93., 85., 86., 98., 96., 90., 84., 73., 74., 78., 92.,\n",
       "       71., 72., 68., 62., 49., 67., 81., 66., 56., 79., 70., 59., 64.,\n",
       "       75., 60., 63., 69., 50., 25., 42., 44., 55., 48., 57., 29., 47.,\n",
       "       65., 54., 20., 53., 37., 38., 33., 52., 30., 32., 43., 45., 51.,\n",
       "       40., 46., 39., 34., 35., 41., 36., 28., 31., 27., 26., 19., 23.,\n",
       "       24., 21., 17., 22., 13.])"
      ]
     },
     "metadata": {},
     "output_type": "display_data"
    }
   ],
   "source": [
    "display(df_games['user_score'].unique())\n",
    "display(df_games['critic_score'].unique())"
   ]
  },
  {
   "cell_type": "markdown",
   "metadata": {},
   "source": [
    "This cell will first fill empty cells with appropriate default values. Then, the year_of_release column will be changed to integers since years are not used with decimals. The user_score column should be floats, and scores with 'tbd' should be marked with the median score. This ensures the remaining data will not appear skewed and confuse others when analyzing the data later. The critic_score will be changed to integers because all scores given by critics always end in .0 meaning no decimals were used originally."
   ]
  },
  {
   "cell_type": "code",
   "execution_count": 299,
   "metadata": {},
   "outputs": [],
   "source": [
    "df_games['year_of_release'] = df_games['year_of_release'].fillna(df_games['year_of_release'].median())\n",
    "df_games['rating'] = df_games['rating'].fillna('Unknown')\n",
    "df_games['critic_score'] = df_games['critic_score'].fillna(df_games['critic_score'].median())\n",
    "df_games['genre'] = df_games['genre'].fillna('Unknown')"
   ]
  },
  {
   "cell_type": "code",
   "execution_count": 300,
   "metadata": {},
   "outputs": [],
   "source": [
    "df_games['user_score'] = df_games['user_score'].replace(to_replace='tbd',value=None)\n",
    "df_games['user_score'] = df_games['user_score'].fillna(df_games['user_score'].median())\n",
    "df_games['user_score'] = df_games['user_score'].astype('float64')"
   ]
  },
  {
   "cell_type": "code",
   "execution_count": 301,
   "metadata": {},
   "outputs": [],
   "source": [
    "df_games['year_of_release'] = df_games['year_of_release'].astype('int64')\n",
    "df_games['critic_score'] = df_games['critic_score'].astype('int64')\n",
    "df_games['user_score'] = df_games['user_score'].astype('float64')"
   ]
  },
  {
   "cell_type": "code",
   "execution_count": 302,
   "metadata": {},
   "outputs": [
    {
     "data": {
      "text/plain": [
       "array([0. , 0.2, 0.3, 0.5, 0.6, 0.7, 0.9, 1. , 1.1, 1.2, 1.3, 1.4, 1.5,\n",
       "       1.6, 1.7, 1.8, 1.9, 2. , 2.1, 2.2, 2.3, 2.4, 2.5, 2.6, 2.7, 2.8,\n",
       "       2.9, 3. , 3.1, 3.2, 3.3, 3.4, 3.5, 3.6, 3.7, 3.8, 3.9, 4. , 4.1,\n",
       "       4.2, 4.3, 4.4, 4.5, 4.6, 4.7, 4.8, 4.9, 5. , 5.1, 5.2, 5.3, 5.4,\n",
       "       5.5, 5.6, 5.7, 5.8, 5.9, 6. , 6.1, 6.2, 6.3, 6.4, 6.5, 6.6, 6.7,\n",
       "       6.8, 6.9, 7. , 7.1, 7.2, 7.3, 7.4, 7.5, 7.6, 7.7, 7.8, 7.9, 8. ,\n",
       "       8.1, 8.2, 8.3, 8.4, 8.5, 8.6, 8.7, 8.8, 8.9, 9. , 9.1, 9.2, 9.3,\n",
       "       9.4, 9.5, 9.6, 9.7])"
      ]
     },
     "metadata": {},
     "output_type": "display_data"
    },
    {
     "data": {
      "text/plain": [
       "array([13, 17, 19, 20, 21, 22, 23, 24, 25, 26, 27, 28, 29, 30, 31, 32, 33,\n",
       "       34, 35, 36, 37, 38, 39, 40, 41, 42, 43, 44, 45, 46, 47, 48, 49, 50,\n",
       "       51, 52, 53, 54, 55, 56, 57, 58, 59, 60, 61, 62, 63, 64, 65, 66, 67,\n",
       "       68, 69, 70, 71, 72, 73, 74, 75, 76, 77, 78, 79, 80, 81, 82, 83, 84,\n",
       "       85, 86, 87, 88, 89, 90, 91, 92, 93, 94, 95, 96, 97, 98])"
      ]
     },
     "metadata": {},
     "output_type": "display_data"
    },
    {
     "data": {
      "text/plain": [
       "array([1980, 1981, 1982, 1983, 1984, 1985, 1986, 1987, 1988, 1989, 1990,\n",
       "       1991, 1992, 1993, 1994, 1995, 1996, 1997, 1998, 1999, 2000, 2001,\n",
       "       2002, 2003, 2004, 2005, 2006, 2007, 2008, 2009, 2010, 2011, 2012,\n",
       "       2013, 2014, 2015, 2016])"
      ]
     },
     "metadata": {},
     "output_type": "display_data"
    }
   ],
   "source": [
    "display(df_games['user_score'].sort_values().unique())\n",
    "display(df_games['critic_score'].sort_values().unique())\n",
    "display(df_games['year_of_release'].sort_values().unique())"
   ]
  },
  {
   "cell_type": "code",
   "execution_count": 303,
   "metadata": {},
   "outputs": [
    {
     "name": "stdout",
     "output_type": "stream",
     "text": [
      "<class 'pandas.core.frame.DataFrame'>\n",
      "RangeIndex: 16715 entries, 0 to 16714\n",
      "Data columns (total 11 columns):\n",
      " #   Column           Non-Null Count  Dtype  \n",
      "---  ------           --------------  -----  \n",
      " 0   name             16713 non-null  object \n",
      " 1   platform         16715 non-null  object \n",
      " 2   year_of_release  16715 non-null  int64  \n",
      " 3   genre            16715 non-null  object \n",
      " 4   na_sales         16715 non-null  float64\n",
      " 5   eu_sales         16715 non-null  float64\n",
      " 6   jp_sales         16715 non-null  float64\n",
      " 7   other_sales      16715 non-null  float64\n",
      " 8   critic_score     16715 non-null  int64  \n",
      " 9   user_score       16715 non-null  float64\n",
      " 10  rating           16715 non-null  object \n",
      "dtypes: float64(5), int64(2), object(4)\n",
      "memory usage: 1.4+ MB\n"
     ]
    },
    {
     "data": {
      "text/plain": [
       "None"
      ]
     },
     "metadata": {},
     "output_type": "display_data"
    }
   ],
   "source": [
    "display(df_games.info())"
   ]
  },
  {
   "cell_type": "code",
   "execution_count": 304,
   "metadata": {},
   "outputs": [
    {
     "data": {
      "text/html": [
       "<div>\n",
       "<style scoped>\n",
       "    .dataframe tbody tr th:only-of-type {\n",
       "        vertical-align: middle;\n",
       "    }\n",
       "\n",
       "    .dataframe tbody tr th {\n",
       "        vertical-align: top;\n",
       "    }\n",
       "\n",
       "    .dataframe thead th {\n",
       "        text-align: right;\n",
       "    }\n",
       "</style>\n",
       "<table border=\"1\" class=\"dataframe\">\n",
       "  <thead>\n",
       "    <tr style=\"text-align: right;\">\n",
       "      <th></th>\n",
       "      <th>name</th>\n",
       "      <th>platform</th>\n",
       "      <th>year_of_release</th>\n",
       "      <th>genre</th>\n",
       "      <th>na_sales</th>\n",
       "      <th>eu_sales</th>\n",
       "      <th>jp_sales</th>\n",
       "      <th>other_sales</th>\n",
       "      <th>critic_score</th>\n",
       "      <th>user_score</th>\n",
       "      <th>rating</th>\n",
       "    </tr>\n",
       "  </thead>\n",
       "  <tbody>\n",
       "    <tr>\n",
       "      <th>0</th>\n",
       "      <td>Wii Sports</td>\n",
       "      <td>Wii</td>\n",
       "      <td>2006</td>\n",
       "      <td>Sports</td>\n",
       "      <td>41.36</td>\n",
       "      <td>28.96</td>\n",
       "      <td>3.77</td>\n",
       "      <td>8.45</td>\n",
       "      <td>76</td>\n",
       "      <td>8.0</td>\n",
       "      <td>E</td>\n",
       "    </tr>\n",
       "    <tr>\n",
       "      <th>1</th>\n",
       "      <td>Super Mario Bros.</td>\n",
       "      <td>NES</td>\n",
       "      <td>1985</td>\n",
       "      <td>Platform</td>\n",
       "      <td>29.08</td>\n",
       "      <td>3.58</td>\n",
       "      <td>6.81</td>\n",
       "      <td>0.77</td>\n",
       "      <td>71</td>\n",
       "      <td>7.5</td>\n",
       "      <td>Unknown</td>\n",
       "    </tr>\n",
       "    <tr>\n",
       "      <th>2</th>\n",
       "      <td>Mario Kart Wii</td>\n",
       "      <td>Wii</td>\n",
       "      <td>2008</td>\n",
       "      <td>Racing</td>\n",
       "      <td>15.68</td>\n",
       "      <td>12.76</td>\n",
       "      <td>3.79</td>\n",
       "      <td>3.29</td>\n",
       "      <td>82</td>\n",
       "      <td>8.3</td>\n",
       "      <td>E</td>\n",
       "    </tr>\n",
       "    <tr>\n",
       "      <th>3</th>\n",
       "      <td>Wii Sports Resort</td>\n",
       "      <td>Wii</td>\n",
       "      <td>2009</td>\n",
       "      <td>Sports</td>\n",
       "      <td>15.61</td>\n",
       "      <td>10.93</td>\n",
       "      <td>3.28</td>\n",
       "      <td>2.95</td>\n",
       "      <td>80</td>\n",
       "      <td>8.0</td>\n",
       "      <td>E</td>\n",
       "    </tr>\n",
       "    <tr>\n",
       "      <th>4</th>\n",
       "      <td>Pokemon Red/Pokemon Blue</td>\n",
       "      <td>GB</td>\n",
       "      <td>1996</td>\n",
       "      <td>Role-Playing</td>\n",
       "      <td>11.27</td>\n",
       "      <td>8.89</td>\n",
       "      <td>10.22</td>\n",
       "      <td>1.00</td>\n",
       "      <td>71</td>\n",
       "      <td>7.5</td>\n",
       "      <td>Unknown</td>\n",
       "    </tr>\n",
       "    <tr>\n",
       "      <th>5</th>\n",
       "      <td>Tetris</td>\n",
       "      <td>GB</td>\n",
       "      <td>1989</td>\n",
       "      <td>Puzzle</td>\n",
       "      <td>23.20</td>\n",
       "      <td>2.26</td>\n",
       "      <td>4.22</td>\n",
       "      <td>0.58</td>\n",
       "      <td>71</td>\n",
       "      <td>7.5</td>\n",
       "      <td>Unknown</td>\n",
       "    </tr>\n",
       "    <tr>\n",
       "      <th>6</th>\n",
       "      <td>New Super Mario Bros.</td>\n",
       "      <td>DS</td>\n",
       "      <td>2006</td>\n",
       "      <td>Platform</td>\n",
       "      <td>11.28</td>\n",
       "      <td>9.14</td>\n",
       "      <td>6.50</td>\n",
       "      <td>2.88</td>\n",
       "      <td>89</td>\n",
       "      <td>8.5</td>\n",
       "      <td>E</td>\n",
       "    </tr>\n",
       "    <tr>\n",
       "      <th>7</th>\n",
       "      <td>Wii Play</td>\n",
       "      <td>Wii</td>\n",
       "      <td>2006</td>\n",
       "      <td>Misc</td>\n",
       "      <td>13.96</td>\n",
       "      <td>9.18</td>\n",
       "      <td>2.93</td>\n",
       "      <td>2.84</td>\n",
       "      <td>58</td>\n",
       "      <td>6.6</td>\n",
       "      <td>E</td>\n",
       "    </tr>\n",
       "    <tr>\n",
       "      <th>8</th>\n",
       "      <td>New Super Mario Bros. Wii</td>\n",
       "      <td>Wii</td>\n",
       "      <td>2009</td>\n",
       "      <td>Platform</td>\n",
       "      <td>14.44</td>\n",
       "      <td>6.94</td>\n",
       "      <td>4.70</td>\n",
       "      <td>2.24</td>\n",
       "      <td>87</td>\n",
       "      <td>8.4</td>\n",
       "      <td>E</td>\n",
       "    </tr>\n",
       "    <tr>\n",
       "      <th>9</th>\n",
       "      <td>Duck Hunt</td>\n",
       "      <td>NES</td>\n",
       "      <td>1984</td>\n",
       "      <td>Shooter</td>\n",
       "      <td>26.93</td>\n",
       "      <td>0.63</td>\n",
       "      <td>0.28</td>\n",
       "      <td>0.47</td>\n",
       "      <td>71</td>\n",
       "      <td>7.5</td>\n",
       "      <td>Unknown</td>\n",
       "    </tr>\n",
       "  </tbody>\n",
       "</table>\n",
       "</div>"
      ],
      "text/plain": [
       "                        name platform  year_of_release         genre  \\\n",
       "0                 Wii Sports      Wii             2006        Sports   \n",
       "1          Super Mario Bros.      NES             1985      Platform   \n",
       "2             Mario Kart Wii      Wii             2008        Racing   \n",
       "3          Wii Sports Resort      Wii             2009        Sports   \n",
       "4   Pokemon Red/Pokemon Blue       GB             1996  Role-Playing   \n",
       "5                     Tetris       GB             1989        Puzzle   \n",
       "6      New Super Mario Bros.       DS             2006      Platform   \n",
       "7                   Wii Play      Wii             2006          Misc   \n",
       "8  New Super Mario Bros. Wii      Wii             2009      Platform   \n",
       "9                  Duck Hunt      NES             1984       Shooter   \n",
       "\n",
       "   na_sales  eu_sales  jp_sales  other_sales  critic_score  user_score  \\\n",
       "0     41.36     28.96      3.77         8.45            76         8.0   \n",
       "1     29.08      3.58      6.81         0.77            71         7.5   \n",
       "2     15.68     12.76      3.79         3.29            82         8.3   \n",
       "3     15.61     10.93      3.28         2.95            80         8.0   \n",
       "4     11.27      8.89     10.22         1.00            71         7.5   \n",
       "5     23.20      2.26      4.22         0.58            71         7.5   \n",
       "6     11.28      9.14      6.50         2.88            89         8.5   \n",
       "7     13.96      9.18      2.93         2.84            58         6.6   \n",
       "8     14.44      6.94      4.70         2.24            87         8.4   \n",
       "9     26.93      0.63      0.28         0.47            71         7.5   \n",
       "\n",
       "    rating  \n",
       "0        E  \n",
       "1  Unknown  \n",
       "2        E  \n",
       "3        E  \n",
       "4  Unknown  \n",
       "5  Unknown  \n",
       "6        E  \n",
       "7        E  \n",
       "8        E  \n",
       "9  Unknown  "
      ]
     },
     "metadata": {},
     "output_type": "display_data"
    }
   ],
   "source": [
    "display(df_games.head(10))"
   ]
  },
  {
   "cell_type": "markdown",
   "metadata": {},
   "source": [
    "### Duplicates"
   ]
  },
  {
   "cell_type": "markdown",
   "metadata": {},
   "source": [
    "Now that the empty cells have been filled, it is time to search for duplicate games. I will search for obvious duplicates first, and then implicit duplicates after. The duplicates will all be from the name of the games being played on the same console."
   ]
  },
  {
   "cell_type": "code",
   "execution_count": 305,
   "metadata": {},
   "outputs": [
    {
     "data": {
      "text/html": [
       "<div>\n",
       "<style scoped>\n",
       "    .dataframe tbody tr th:only-of-type {\n",
       "        vertical-align: middle;\n",
       "    }\n",
       "\n",
       "    .dataframe tbody tr th {\n",
       "        vertical-align: top;\n",
       "    }\n",
       "\n",
       "    .dataframe thead th {\n",
       "        text-align: right;\n",
       "    }\n",
       "</style>\n",
       "<table border=\"1\" class=\"dataframe\">\n",
       "  <thead>\n",
       "    <tr style=\"text-align: right;\">\n",
       "      <th></th>\n",
       "      <th>name</th>\n",
       "      <th>platform</th>\n",
       "      <th>year_of_release</th>\n",
       "      <th>genre</th>\n",
       "      <th>na_sales</th>\n",
       "      <th>eu_sales</th>\n",
       "      <th>jp_sales</th>\n",
       "      <th>other_sales</th>\n",
       "      <th>critic_score</th>\n",
       "      <th>user_score</th>\n",
       "      <th>rating</th>\n",
       "    </tr>\n",
       "  </thead>\n",
       "  <tbody>\n",
       "  </tbody>\n",
       "</table>\n",
       "</div>"
      ],
      "text/plain": [
       "Empty DataFrame\n",
       "Columns: [name, platform, year_of_release, genre, na_sales, eu_sales, jp_sales, other_sales, critic_score, user_score, rating]\n",
       "Index: []"
      ]
     },
     "metadata": {},
     "output_type": "display_data"
    }
   ],
   "source": [
    "display(df_games[(df_games.duplicated())])"
   ]
  },
  {
   "cell_type": "markdown",
   "metadata": {},
   "source": [
    "No obvious duplicates. Now, it's time to search for implicit duplicates by printing duplicate names and seeing if they come from the same console."
   ]
  },
  {
   "cell_type": "code",
   "execution_count": 306,
   "metadata": {},
   "outputs": [
    {
     "data": {
      "text/html": [
       "<div>\n",
       "<style scoped>\n",
       "    .dataframe tbody tr th:only-of-type {\n",
       "        vertical-align: middle;\n",
       "    }\n",
       "\n",
       "    .dataframe tbody tr th {\n",
       "        vertical-align: top;\n",
       "    }\n",
       "\n",
       "    .dataframe thead th {\n",
       "        text-align: right;\n",
       "    }\n",
       "</style>\n",
       "<table border=\"1\" class=\"dataframe\">\n",
       "  <thead>\n",
       "    <tr style=\"text-align: right;\">\n",
       "      <th></th>\n",
       "      <th></th>\n",
       "      <th>year_of_release</th>\n",
       "      <th>genre</th>\n",
       "      <th>na_sales</th>\n",
       "      <th>eu_sales</th>\n",
       "      <th>jp_sales</th>\n",
       "      <th>other_sales</th>\n",
       "      <th>critic_score</th>\n",
       "      <th>user_score</th>\n",
       "      <th>rating</th>\n",
       "    </tr>\n",
       "    <tr>\n",
       "      <th>name</th>\n",
       "      <th>platform</th>\n",
       "      <th></th>\n",
       "      <th></th>\n",
       "      <th></th>\n",
       "      <th></th>\n",
       "      <th></th>\n",
       "      <th></th>\n",
       "      <th></th>\n",
       "      <th></th>\n",
       "      <th></th>\n",
       "    </tr>\n",
       "  </thead>\n",
       "  <tbody>\n",
       "    <tr>\n",
       "      <th rowspan=\"2\" valign=\"top\">Need for Speed: Most Wanted</th>\n",
       "      <th>PC</th>\n",
       "      <td>2</td>\n",
       "      <td>2</td>\n",
       "      <td>2</td>\n",
       "      <td>2</td>\n",
       "      <td>2</td>\n",
       "      <td>2</td>\n",
       "      <td>2</td>\n",
       "      <td>2</td>\n",
       "      <td>2</td>\n",
       "    </tr>\n",
       "    <tr>\n",
       "      <th>X360</th>\n",
       "      <td>2</td>\n",
       "      <td>2</td>\n",
       "      <td>2</td>\n",
       "      <td>2</td>\n",
       "      <td>2</td>\n",
       "      <td>2</td>\n",
       "      <td>2</td>\n",
       "      <td>2</td>\n",
       "      <td>2</td>\n",
       "    </tr>\n",
       "    <tr>\n",
       "      <th>Madden NFL 13</th>\n",
       "      <th>PS3</th>\n",
       "      <td>2</td>\n",
       "      <td>2</td>\n",
       "      <td>2</td>\n",
       "      <td>2</td>\n",
       "      <td>2</td>\n",
       "      <td>2</td>\n",
       "      <td>2</td>\n",
       "      <td>2</td>\n",
       "      <td>2</td>\n",
       "    </tr>\n",
       "    <tr>\n",
       "      <th>Sonic the Hedgehog</th>\n",
       "      <th>PS3</th>\n",
       "      <td>2</td>\n",
       "      <td>2</td>\n",
       "      <td>2</td>\n",
       "      <td>2</td>\n",
       "      <td>2</td>\n",
       "      <td>2</td>\n",
       "      <td>2</td>\n",
       "      <td>2</td>\n",
       "      <td>2</td>\n",
       "    </tr>\n",
       "    <tr>\n",
       "      <th>Rhythm Heaven</th>\n",
       "      <th>Wii</th>\n",
       "      <td>1</td>\n",
       "      <td>1</td>\n",
       "      <td>1</td>\n",
       "      <td>1</td>\n",
       "      <td>1</td>\n",
       "      <td>1</td>\n",
       "      <td>1</td>\n",
       "      <td>1</td>\n",
       "      <td>1</td>\n",
       "    </tr>\n",
       "    <tr>\n",
       "      <th>Ride 2</th>\n",
       "      <th>PC</th>\n",
       "      <td>1</td>\n",
       "      <td>1</td>\n",
       "      <td>1</td>\n",
       "      <td>1</td>\n",
       "      <td>1</td>\n",
       "      <td>1</td>\n",
       "      <td>1</td>\n",
       "      <td>1</td>\n",
       "      <td>1</td>\n",
       "    </tr>\n",
       "    <tr>\n",
       "      <th rowspan=\"4\" valign=\"top\">Ride</th>\n",
       "      <th>XOne</th>\n",
       "      <td>1</td>\n",
       "      <td>1</td>\n",
       "      <td>1</td>\n",
       "      <td>1</td>\n",
       "      <td>1</td>\n",
       "      <td>1</td>\n",
       "      <td>1</td>\n",
       "      <td>1</td>\n",
       "      <td>1</td>\n",
       "    </tr>\n",
       "    <tr>\n",
       "      <th>X360</th>\n",
       "      <td>1</td>\n",
       "      <td>1</td>\n",
       "      <td>1</td>\n",
       "      <td>1</td>\n",
       "      <td>1</td>\n",
       "      <td>1</td>\n",
       "      <td>1</td>\n",
       "      <td>1</td>\n",
       "      <td>1</td>\n",
       "    </tr>\n",
       "    <tr>\n",
       "      <th>PS3</th>\n",
       "      <td>1</td>\n",
       "      <td>1</td>\n",
       "      <td>1</td>\n",
       "      <td>1</td>\n",
       "      <td>1</td>\n",
       "      <td>1</td>\n",
       "      <td>1</td>\n",
       "      <td>1</td>\n",
       "      <td>1</td>\n",
       "    </tr>\n",
       "    <tr>\n",
       "      <th>PC</th>\n",
       "      <td>1</td>\n",
       "      <td>1</td>\n",
       "      <td>1</td>\n",
       "      <td>1</td>\n",
       "      <td>1</td>\n",
       "      <td>1</td>\n",
       "      <td>1</td>\n",
       "      <td>1</td>\n",
       "      <td>1</td>\n",
       "    </tr>\n",
       "  </tbody>\n",
       "</table>\n",
       "</div>"
      ],
      "text/plain": [
       "                                      year_of_release  genre  na_sales  \\\n",
       "name                        platform                                     \n",
       "Need for Speed: Most Wanted PC                      2      2         2   \n",
       "                            X360                    2      2         2   \n",
       "Madden NFL 13               PS3                     2      2         2   \n",
       "Sonic the Hedgehog          PS3                     2      2         2   \n",
       "Rhythm Heaven               Wii                     1      1         1   \n",
       "Ride 2                      PC                      1      1         1   \n",
       "Ride                        XOne                    1      1         1   \n",
       "                            X360                    1      1         1   \n",
       "                            PS3                     1      1         1   \n",
       "                            PC                      1      1         1   \n",
       "\n",
       "                                      eu_sales  jp_sales  other_sales  \\\n",
       "name                        platform                                    \n",
       "Need for Speed: Most Wanted PC               2         2            2   \n",
       "                            X360             2         2            2   \n",
       "Madden NFL 13               PS3              2         2            2   \n",
       "Sonic the Hedgehog          PS3              2         2            2   \n",
       "Rhythm Heaven               Wii              1         1            1   \n",
       "Ride 2                      PC               1         1            1   \n",
       "Ride                        XOne             1         1            1   \n",
       "                            X360             1         1            1   \n",
       "                            PS3              1         1            1   \n",
       "                            PC               1         1            1   \n",
       "\n",
       "                                      critic_score  user_score  rating  \n",
       "name                        platform                                    \n",
       "Need for Speed: Most Wanted PC                   2           2       2  \n",
       "                            X360                 2           2       2  \n",
       "Madden NFL 13               PS3                  2           2       2  \n",
       "Sonic the Hedgehog          PS3                  2           2       2  \n",
       "Rhythm Heaven               Wii                  1           1       1  \n",
       "Ride 2                      PC                   1           1       1  \n",
       "Ride                        XOne                 1           1       1  \n",
       "                            X360                 1           1       1  \n",
       "                            PS3                  1           1       1  \n",
       "                            PC                   1           1       1  "
      ]
     },
     "metadata": {},
     "output_type": "display_data"
    }
   ],
   "source": [
    "df_duplicate_games = df_games[df_games['name'].duplicated()]\n",
    "df_duplicate_games = df_duplicate_games.groupby(['name','platform']).count().sort_values(by='genre',ascending=False)\n",
    "display(df_duplicate_games.head(10))"
   ]
  },
  {
   "cell_type": "markdown",
   "metadata": {},
   "source": [
    "Three games have possible implicit duplicates: Need for Speed: Most Wanted, Madden NFL 13, and Sonic the Hedgehog. These implicit duplicates need to be removed. All sales from the duplicate value will be added to the original to ensure no lost sales counts in the data."
   ]
  },
  {
   "cell_type": "code",
   "execution_count": 307,
   "metadata": {},
   "outputs": [
    {
     "data": {
      "text/html": [
       "<div>\n",
       "<style scoped>\n",
       "    .dataframe tbody tr th:only-of-type {\n",
       "        vertical-align: middle;\n",
       "    }\n",
       "\n",
       "    .dataframe tbody tr th {\n",
       "        vertical-align: top;\n",
       "    }\n",
       "\n",
       "    .dataframe thead th {\n",
       "        text-align: right;\n",
       "    }\n",
       "</style>\n",
       "<table border=\"1\" class=\"dataframe\">\n",
       "  <thead>\n",
       "    <tr style=\"text-align: right;\">\n",
       "      <th></th>\n",
       "      <th>name</th>\n",
       "      <th>platform</th>\n",
       "      <th>year_of_release</th>\n",
       "      <th>genre</th>\n",
       "      <th>na_sales</th>\n",
       "      <th>eu_sales</th>\n",
       "      <th>jp_sales</th>\n",
       "      <th>other_sales</th>\n",
       "      <th>critic_score</th>\n",
       "      <th>user_score</th>\n",
       "      <th>rating</th>\n",
       "    </tr>\n",
       "  </thead>\n",
       "  <tbody>\n",
       "    <tr>\n",
       "      <th>253</th>\n",
       "      <td>Need for Speed: Most Wanted</td>\n",
       "      <td>PS2</td>\n",
       "      <td>2005</td>\n",
       "      <td>Racing</td>\n",
       "      <td>2.03</td>\n",
       "      <td>1.79</td>\n",
       "      <td>0.08</td>\n",
       "      <td>0.47</td>\n",
       "      <td>82</td>\n",
       "      <td>9.1</td>\n",
       "      <td>T</td>\n",
       "    </tr>\n",
       "    <tr>\n",
       "      <th>523</th>\n",
       "      <td>Need for Speed: Most Wanted</td>\n",
       "      <td>PS3</td>\n",
       "      <td>2012</td>\n",
       "      <td>Racing</td>\n",
       "      <td>0.71</td>\n",
       "      <td>1.46</td>\n",
       "      <td>0.06</td>\n",
       "      <td>0.58</td>\n",
       "      <td>71</td>\n",
       "      <td>7.5</td>\n",
       "      <td>Unknown</td>\n",
       "    </tr>\n",
       "    <tr>\n",
       "      <th>1190</th>\n",
       "      <td>Need for Speed: Most Wanted</td>\n",
       "      <td>X360</td>\n",
       "      <td>2012</td>\n",
       "      <td>Racing</td>\n",
       "      <td>0.62</td>\n",
       "      <td>0.78</td>\n",
       "      <td>0.01</td>\n",
       "      <td>0.15</td>\n",
       "      <td>83</td>\n",
       "      <td>8.5</td>\n",
       "      <td>T</td>\n",
       "    </tr>\n",
       "    <tr>\n",
       "      <th>1591</th>\n",
       "      <td>Need for Speed: Most Wanted</td>\n",
       "      <td>X360</td>\n",
       "      <td>2005</td>\n",
       "      <td>Racing</td>\n",
       "      <td>1.00</td>\n",
       "      <td>0.13</td>\n",
       "      <td>0.02</td>\n",
       "      <td>0.10</td>\n",
       "      <td>83</td>\n",
       "      <td>8.5</td>\n",
       "      <td>T</td>\n",
       "    </tr>\n",
       "    <tr>\n",
       "      <th>1998</th>\n",
       "      <td>Need for Speed: Most Wanted</td>\n",
       "      <td>XB</td>\n",
       "      <td>2005</td>\n",
       "      <td>Racing</td>\n",
       "      <td>0.53</td>\n",
       "      <td>0.46</td>\n",
       "      <td>0.00</td>\n",
       "      <td>0.05</td>\n",
       "      <td>83</td>\n",
       "      <td>8.8</td>\n",
       "      <td>T</td>\n",
       "    </tr>\n",
       "    <tr>\n",
       "      <th>2048</th>\n",
       "      <td>Need for Speed: Most Wanted</td>\n",
       "      <td>PSV</td>\n",
       "      <td>2012</td>\n",
       "      <td>Racing</td>\n",
       "      <td>0.33</td>\n",
       "      <td>0.45</td>\n",
       "      <td>0.01</td>\n",
       "      <td>0.22</td>\n",
       "      <td>71</td>\n",
       "      <td>7.5</td>\n",
       "      <td>Unknown</td>\n",
       "    </tr>\n",
       "    <tr>\n",
       "      <th>3581</th>\n",
       "      <td>Need for Speed: Most Wanted</td>\n",
       "      <td>GC</td>\n",
       "      <td>2005</td>\n",
       "      <td>Racing</td>\n",
       "      <td>0.43</td>\n",
       "      <td>0.11</td>\n",
       "      <td>0.00</td>\n",
       "      <td>0.02</td>\n",
       "      <td>80</td>\n",
       "      <td>9.1</td>\n",
       "      <td>T</td>\n",
       "    </tr>\n",
       "    <tr>\n",
       "      <th>5972</th>\n",
       "      <td>Need for Speed: Most Wanted</td>\n",
       "      <td>PC</td>\n",
       "      <td>2005</td>\n",
       "      <td>Racing</td>\n",
       "      <td>0.02</td>\n",
       "      <td>0.23</td>\n",
       "      <td>0.00</td>\n",
       "      <td>0.04</td>\n",
       "      <td>82</td>\n",
       "      <td>8.5</td>\n",
       "      <td>T</td>\n",
       "    </tr>\n",
       "    <tr>\n",
       "      <th>6273</th>\n",
       "      <td>Need for Speed: Most Wanted</td>\n",
       "      <td>WiiU</td>\n",
       "      <td>2013</td>\n",
       "      <td>Racing</td>\n",
       "      <td>0.13</td>\n",
       "      <td>0.12</td>\n",
       "      <td>0.00</td>\n",
       "      <td>0.02</td>\n",
       "      <td>71</td>\n",
       "      <td>7.5</td>\n",
       "      <td>Unknown</td>\n",
       "    </tr>\n",
       "    <tr>\n",
       "      <th>6410</th>\n",
       "      <td>Need for Speed: Most Wanted</td>\n",
       "      <td>DS</td>\n",
       "      <td>2005</td>\n",
       "      <td>Racing</td>\n",
       "      <td>0.24</td>\n",
       "      <td>0.01</td>\n",
       "      <td>0.00</td>\n",
       "      <td>0.02</td>\n",
       "      <td>45</td>\n",
       "      <td>6.1</td>\n",
       "      <td>E</td>\n",
       "    </tr>\n",
       "    <tr>\n",
       "      <th>6473</th>\n",
       "      <td>Need for Speed: Most Wanted</td>\n",
       "      <td>GBA</td>\n",
       "      <td>2005</td>\n",
       "      <td>Racing</td>\n",
       "      <td>0.19</td>\n",
       "      <td>0.07</td>\n",
       "      <td>0.00</td>\n",
       "      <td>0.00</td>\n",
       "      <td>71</td>\n",
       "      <td>8.3</td>\n",
       "      <td>E</td>\n",
       "    </tr>\n",
       "    <tr>\n",
       "      <th>11715</th>\n",
       "      <td>Need for Speed: Most Wanted</td>\n",
       "      <td>PC</td>\n",
       "      <td>2012</td>\n",
       "      <td>Racing</td>\n",
       "      <td>0.00</td>\n",
       "      <td>0.06</td>\n",
       "      <td>0.00</td>\n",
       "      <td>0.02</td>\n",
       "      <td>82</td>\n",
       "      <td>8.5</td>\n",
       "      <td>T</td>\n",
       "    </tr>\n",
       "  </tbody>\n",
       "</table>\n",
       "</div>"
      ],
      "text/plain": [
       "                              name platform  year_of_release   genre  \\\n",
       "253    Need for Speed: Most Wanted      PS2             2005  Racing   \n",
       "523    Need for Speed: Most Wanted      PS3             2012  Racing   \n",
       "1190   Need for Speed: Most Wanted     X360             2012  Racing   \n",
       "1591   Need for Speed: Most Wanted     X360             2005  Racing   \n",
       "1998   Need for Speed: Most Wanted       XB             2005  Racing   \n",
       "2048   Need for Speed: Most Wanted      PSV             2012  Racing   \n",
       "3581   Need for Speed: Most Wanted       GC             2005  Racing   \n",
       "5972   Need for Speed: Most Wanted       PC             2005  Racing   \n",
       "6273   Need for Speed: Most Wanted     WiiU             2013  Racing   \n",
       "6410   Need for Speed: Most Wanted       DS             2005  Racing   \n",
       "6473   Need for Speed: Most Wanted      GBA             2005  Racing   \n",
       "11715  Need for Speed: Most Wanted       PC             2012  Racing   \n",
       "\n",
       "       na_sales  eu_sales  jp_sales  other_sales  critic_score  user_score  \\\n",
       "253        2.03      1.79      0.08         0.47            82         9.1   \n",
       "523        0.71      1.46      0.06         0.58            71         7.5   \n",
       "1190       0.62      0.78      0.01         0.15            83         8.5   \n",
       "1591       1.00      0.13      0.02         0.10            83         8.5   \n",
       "1998       0.53      0.46      0.00         0.05            83         8.8   \n",
       "2048       0.33      0.45      0.01         0.22            71         7.5   \n",
       "3581       0.43      0.11      0.00         0.02            80         9.1   \n",
       "5972       0.02      0.23      0.00         0.04            82         8.5   \n",
       "6273       0.13      0.12      0.00         0.02            71         7.5   \n",
       "6410       0.24      0.01      0.00         0.02            45         6.1   \n",
       "6473       0.19      0.07      0.00         0.00            71         8.3   \n",
       "11715      0.00      0.06      0.00         0.02            82         8.5   \n",
       "\n",
       "        rating  \n",
       "253          T  \n",
       "523    Unknown  \n",
       "1190         T  \n",
       "1591         T  \n",
       "1998         T  \n",
       "2048   Unknown  \n",
       "3581         T  \n",
       "5972         T  \n",
       "6273   Unknown  \n",
       "6410         E  \n",
       "6473         E  \n",
       "11715        T  "
      ]
     },
     "metadata": {},
     "output_type": "display_data"
    },
    {
     "data": {
      "text/html": [
       "<div>\n",
       "<style scoped>\n",
       "    .dataframe tbody tr th:only-of-type {\n",
       "        vertical-align: middle;\n",
       "    }\n",
       "\n",
       "    .dataframe tbody tr th {\n",
       "        vertical-align: top;\n",
       "    }\n",
       "\n",
       "    .dataframe thead th {\n",
       "        text-align: right;\n",
       "    }\n",
       "</style>\n",
       "<table border=\"1\" class=\"dataframe\">\n",
       "  <thead>\n",
       "    <tr style=\"text-align: right;\">\n",
       "      <th></th>\n",
       "      <th>name</th>\n",
       "      <th>platform</th>\n",
       "      <th>year_of_release</th>\n",
       "      <th>genre</th>\n",
       "      <th>na_sales</th>\n",
       "      <th>eu_sales</th>\n",
       "      <th>jp_sales</th>\n",
       "      <th>other_sales</th>\n",
       "      <th>critic_score</th>\n",
       "      <th>user_score</th>\n",
       "      <th>rating</th>\n",
       "    </tr>\n",
       "  </thead>\n",
       "  <tbody>\n",
       "    <tr>\n",
       "      <th>507</th>\n",
       "      <td>Madden NFL 13</td>\n",
       "      <td>X360</td>\n",
       "      <td>2012</td>\n",
       "      <td>Sports</td>\n",
       "      <td>2.53</td>\n",
       "      <td>0.15</td>\n",
       "      <td>0.0</td>\n",
       "      <td>0.17</td>\n",
       "      <td>81</td>\n",
       "      <td>5.8</td>\n",
       "      <td>E</td>\n",
       "    </tr>\n",
       "    <tr>\n",
       "      <th>604</th>\n",
       "      <td>Madden NFL 13</td>\n",
       "      <td>PS3</td>\n",
       "      <td>2012</td>\n",
       "      <td>Sports</td>\n",
       "      <td>2.11</td>\n",
       "      <td>0.22</td>\n",
       "      <td>0.0</td>\n",
       "      <td>0.23</td>\n",
       "      <td>83</td>\n",
       "      <td>5.5</td>\n",
       "      <td>E</td>\n",
       "    </tr>\n",
       "    <tr>\n",
       "      <th>3986</th>\n",
       "      <td>Madden NFL 13</td>\n",
       "      <td>Wii</td>\n",
       "      <td>2012</td>\n",
       "      <td>Sports</td>\n",
       "      <td>0.47</td>\n",
       "      <td>0.00</td>\n",
       "      <td>0.0</td>\n",
       "      <td>0.03</td>\n",
       "      <td>71</td>\n",
       "      <td>7.3</td>\n",
       "      <td>E</td>\n",
       "    </tr>\n",
       "    <tr>\n",
       "      <th>5887</th>\n",
       "      <td>Madden NFL 13</td>\n",
       "      <td>PSV</td>\n",
       "      <td>2012</td>\n",
       "      <td>Sports</td>\n",
       "      <td>0.28</td>\n",
       "      <td>0.00</td>\n",
       "      <td>0.0</td>\n",
       "      <td>0.02</td>\n",
       "      <td>63</td>\n",
       "      <td>7.3</td>\n",
       "      <td>E</td>\n",
       "    </tr>\n",
       "    <tr>\n",
       "      <th>7066</th>\n",
       "      <td>Madden NFL 13</td>\n",
       "      <td>WiiU</td>\n",
       "      <td>2012</td>\n",
       "      <td>Sports</td>\n",
       "      <td>0.21</td>\n",
       "      <td>0.00</td>\n",
       "      <td>0.0</td>\n",
       "      <td>0.02</td>\n",
       "      <td>75</td>\n",
       "      <td>6.7</td>\n",
       "      <td>E</td>\n",
       "    </tr>\n",
       "    <tr>\n",
       "      <th>16230</th>\n",
       "      <td>Madden NFL 13</td>\n",
       "      <td>PS3</td>\n",
       "      <td>2012</td>\n",
       "      <td>Sports</td>\n",
       "      <td>0.00</td>\n",
       "      <td>0.01</td>\n",
       "      <td>0.0</td>\n",
       "      <td>0.00</td>\n",
       "      <td>83</td>\n",
       "      <td>5.5</td>\n",
       "      <td>E</td>\n",
       "    </tr>\n",
       "  </tbody>\n",
       "</table>\n",
       "</div>"
      ],
      "text/plain": [
       "                name platform  year_of_release   genre  na_sales  eu_sales  \\\n",
       "507    Madden NFL 13     X360             2012  Sports      2.53      0.15   \n",
       "604    Madden NFL 13      PS3             2012  Sports      2.11      0.22   \n",
       "3986   Madden NFL 13      Wii             2012  Sports      0.47      0.00   \n",
       "5887   Madden NFL 13      PSV             2012  Sports      0.28      0.00   \n",
       "7066   Madden NFL 13     WiiU             2012  Sports      0.21      0.00   \n",
       "16230  Madden NFL 13      PS3             2012  Sports      0.00      0.01   \n",
       "\n",
       "       jp_sales  other_sales  critic_score  user_score rating  \n",
       "507         0.0         0.17            81         5.8      E  \n",
       "604         0.0         0.23            83         5.5      E  \n",
       "3986        0.0         0.03            71         7.3      E  \n",
       "5887        0.0         0.02            63         7.3      E  \n",
       "7066        0.0         0.02            75         6.7      E  \n",
       "16230       0.0         0.00            83         5.5      E  "
      ]
     },
     "metadata": {},
     "output_type": "display_data"
    },
    {
     "data": {
      "text/html": [
       "<div>\n",
       "<style scoped>\n",
       "    .dataframe tbody tr th:only-of-type {\n",
       "        vertical-align: middle;\n",
       "    }\n",
       "\n",
       "    .dataframe tbody tr th {\n",
       "        vertical-align: top;\n",
       "    }\n",
       "\n",
       "    .dataframe thead th {\n",
       "        text-align: right;\n",
       "    }\n",
       "</style>\n",
       "<table border=\"1\" class=\"dataframe\">\n",
       "  <thead>\n",
       "    <tr style=\"text-align: right;\">\n",
       "      <th></th>\n",
       "      <th>name</th>\n",
       "      <th>platform</th>\n",
       "      <th>year_of_release</th>\n",
       "      <th>genre</th>\n",
       "      <th>na_sales</th>\n",
       "      <th>eu_sales</th>\n",
       "      <th>jp_sales</th>\n",
       "      <th>other_sales</th>\n",
       "      <th>critic_score</th>\n",
       "      <th>user_score</th>\n",
       "      <th>rating</th>\n",
       "    </tr>\n",
       "  </thead>\n",
       "  <tbody>\n",
       "    <tr>\n",
       "      <th>257</th>\n",
       "      <td>Sonic the Hedgehog</td>\n",
       "      <td>GEN</td>\n",
       "      <td>1991</td>\n",
       "      <td>Platform</td>\n",
       "      <td>3.03</td>\n",
       "      <td>0.91</td>\n",
       "      <td>0.26</td>\n",
       "      <td>0.13</td>\n",
       "      <td>71</td>\n",
       "      <td>7.5</td>\n",
       "      <td>Unknown</td>\n",
       "    </tr>\n",
       "    <tr>\n",
       "      <th>1745</th>\n",
       "      <td>Sonic the Hedgehog</td>\n",
       "      <td>PS3</td>\n",
       "      <td>2006</td>\n",
       "      <td>Platform</td>\n",
       "      <td>0.41</td>\n",
       "      <td>0.06</td>\n",
       "      <td>0.04</td>\n",
       "      <td>0.66</td>\n",
       "      <td>43</td>\n",
       "      <td>4.1</td>\n",
       "      <td>E10+</td>\n",
       "    </tr>\n",
       "    <tr>\n",
       "      <th>1996</th>\n",
       "      <td>Sonic the Hedgehog</td>\n",
       "      <td>X360</td>\n",
       "      <td>2006</td>\n",
       "      <td>Platform</td>\n",
       "      <td>0.44</td>\n",
       "      <td>0.48</td>\n",
       "      <td>0.00</td>\n",
       "      <td>0.11</td>\n",
       "      <td>46</td>\n",
       "      <td>4.4</td>\n",
       "      <td>E10+</td>\n",
       "    </tr>\n",
       "    <tr>\n",
       "      <th>4127</th>\n",
       "      <td>Sonic the Hedgehog</td>\n",
       "      <td>PS3</td>\n",
       "      <td>2007</td>\n",
       "      <td>Platform</td>\n",
       "      <td>0.00</td>\n",
       "      <td>0.48</td>\n",
       "      <td>0.00</td>\n",
       "      <td>0.00</td>\n",
       "      <td>43</td>\n",
       "      <td>4.1</td>\n",
       "      <td>E10+</td>\n",
       "    </tr>\n",
       "  </tbody>\n",
       "</table>\n",
       "</div>"
      ],
      "text/plain": [
       "                    name platform  year_of_release     genre  na_sales  \\\n",
       "257   Sonic the Hedgehog      GEN             1991  Platform      3.03   \n",
       "1745  Sonic the Hedgehog      PS3             2006  Platform      0.41   \n",
       "1996  Sonic the Hedgehog     X360             2006  Platform      0.44   \n",
       "4127  Sonic the Hedgehog      PS3             2007  Platform      0.00   \n",
       "\n",
       "      eu_sales  jp_sales  other_sales  critic_score  user_score   rating  \n",
       "257       0.91      0.26         0.13            71         7.5  Unknown  \n",
       "1745      0.06      0.04         0.66            43         4.1     E10+  \n",
       "1996      0.48      0.00         0.11            46         4.4     E10+  \n",
       "4127      0.48      0.00         0.00            43         4.1     E10+  "
      ]
     },
     "metadata": {},
     "output_type": "display_data"
    }
   ],
   "source": [
    "display(df_games[df_games['name']=='Need for Speed: Most Wanted'])\n",
    "display(df_games[df_games['name']=='Madden NFL 13'])\n",
    "display(df_games[df_games['name']=='Sonic the Hedgehog'])"
   ]
  },
  {
   "cell_type": "markdown",
   "metadata": {},
   "source": [
    "Need for Speed actually does not have any duplicates to be removed. The game was released in 2005 and 2012 on several different consoles. Madden and Sonic both have duplicate postings on the PS3. The dupicates will now be removed and the sales from the duplicate post will be added to the original."
   ]
  },
  {
   "cell_type": "code",
   "execution_count": 308,
   "metadata": {},
   "outputs": [],
   "source": [
    "df_games.loc[(df_games['name'] == 'Madden NFL 13') & (df_games['eu_sales'] == 0.22),'eu_sales'] = 0.23\n",
    "df_games.loc[(df_games['name'] == 'Sonic the Hedgehog') & (df_games['eu_sales'] == 0.06),'eu_sales'] = 0.54\n",
    "df_games.drop(4127,inplace=True)\n",
    "df_games.drop(16230,inplace=True)\n"
   ]
  },
  {
   "cell_type": "code",
   "execution_count": 309,
   "metadata": {},
   "outputs": [
    {
     "data": {
      "text/html": [
       "<div>\n",
       "<style scoped>\n",
       "    .dataframe tbody tr th:only-of-type {\n",
       "        vertical-align: middle;\n",
       "    }\n",
       "\n",
       "    .dataframe tbody tr th {\n",
       "        vertical-align: top;\n",
       "    }\n",
       "\n",
       "    .dataframe thead th {\n",
       "        text-align: right;\n",
       "    }\n",
       "</style>\n",
       "<table border=\"1\" class=\"dataframe\">\n",
       "  <thead>\n",
       "    <tr style=\"text-align: right;\">\n",
       "      <th></th>\n",
       "      <th>name</th>\n",
       "      <th>platform</th>\n",
       "      <th>year_of_release</th>\n",
       "      <th>genre</th>\n",
       "      <th>na_sales</th>\n",
       "      <th>eu_sales</th>\n",
       "      <th>jp_sales</th>\n",
       "      <th>other_sales</th>\n",
       "      <th>critic_score</th>\n",
       "      <th>user_score</th>\n",
       "      <th>rating</th>\n",
       "    </tr>\n",
       "  </thead>\n",
       "  <tbody>\n",
       "    <tr>\n",
       "      <th>507</th>\n",
       "      <td>Madden NFL 13</td>\n",
       "      <td>X360</td>\n",
       "      <td>2012</td>\n",
       "      <td>Sports</td>\n",
       "      <td>2.53</td>\n",
       "      <td>0.15</td>\n",
       "      <td>0.0</td>\n",
       "      <td>0.17</td>\n",
       "      <td>81</td>\n",
       "      <td>5.8</td>\n",
       "      <td>E</td>\n",
       "    </tr>\n",
       "    <tr>\n",
       "      <th>604</th>\n",
       "      <td>Madden NFL 13</td>\n",
       "      <td>PS3</td>\n",
       "      <td>2012</td>\n",
       "      <td>Sports</td>\n",
       "      <td>2.11</td>\n",
       "      <td>0.23</td>\n",
       "      <td>0.0</td>\n",
       "      <td>0.23</td>\n",
       "      <td>83</td>\n",
       "      <td>5.5</td>\n",
       "      <td>E</td>\n",
       "    </tr>\n",
       "    <tr>\n",
       "      <th>3986</th>\n",
       "      <td>Madden NFL 13</td>\n",
       "      <td>Wii</td>\n",
       "      <td>2012</td>\n",
       "      <td>Sports</td>\n",
       "      <td>0.47</td>\n",
       "      <td>0.00</td>\n",
       "      <td>0.0</td>\n",
       "      <td>0.03</td>\n",
       "      <td>71</td>\n",
       "      <td>7.3</td>\n",
       "      <td>E</td>\n",
       "    </tr>\n",
       "    <tr>\n",
       "      <th>5887</th>\n",
       "      <td>Madden NFL 13</td>\n",
       "      <td>PSV</td>\n",
       "      <td>2012</td>\n",
       "      <td>Sports</td>\n",
       "      <td>0.28</td>\n",
       "      <td>0.00</td>\n",
       "      <td>0.0</td>\n",
       "      <td>0.02</td>\n",
       "      <td>63</td>\n",
       "      <td>7.3</td>\n",
       "      <td>E</td>\n",
       "    </tr>\n",
       "    <tr>\n",
       "      <th>7066</th>\n",
       "      <td>Madden NFL 13</td>\n",
       "      <td>WiiU</td>\n",
       "      <td>2012</td>\n",
       "      <td>Sports</td>\n",
       "      <td>0.21</td>\n",
       "      <td>0.00</td>\n",
       "      <td>0.0</td>\n",
       "      <td>0.02</td>\n",
       "      <td>75</td>\n",
       "      <td>6.7</td>\n",
       "      <td>E</td>\n",
       "    </tr>\n",
       "  </tbody>\n",
       "</table>\n",
       "</div>"
      ],
      "text/plain": [
       "               name platform  year_of_release   genre  na_sales  eu_sales  \\\n",
       "507   Madden NFL 13     X360             2012  Sports      2.53      0.15   \n",
       "604   Madden NFL 13      PS3             2012  Sports      2.11      0.23   \n",
       "3986  Madden NFL 13      Wii             2012  Sports      0.47      0.00   \n",
       "5887  Madden NFL 13      PSV             2012  Sports      0.28      0.00   \n",
       "7066  Madden NFL 13     WiiU             2012  Sports      0.21      0.00   \n",
       "\n",
       "      jp_sales  other_sales  critic_score  user_score rating  \n",
       "507        0.0         0.17            81         5.8      E  \n",
       "604        0.0         0.23            83         5.5      E  \n",
       "3986       0.0         0.03            71         7.3      E  \n",
       "5887       0.0         0.02            63         7.3      E  \n",
       "7066       0.0         0.02            75         6.7      E  "
      ]
     },
     "metadata": {},
     "output_type": "display_data"
    },
    {
     "data": {
      "text/html": [
       "<div>\n",
       "<style scoped>\n",
       "    .dataframe tbody tr th:only-of-type {\n",
       "        vertical-align: middle;\n",
       "    }\n",
       "\n",
       "    .dataframe tbody tr th {\n",
       "        vertical-align: top;\n",
       "    }\n",
       "\n",
       "    .dataframe thead th {\n",
       "        text-align: right;\n",
       "    }\n",
       "</style>\n",
       "<table border=\"1\" class=\"dataframe\">\n",
       "  <thead>\n",
       "    <tr style=\"text-align: right;\">\n",
       "      <th></th>\n",
       "      <th>name</th>\n",
       "      <th>platform</th>\n",
       "      <th>year_of_release</th>\n",
       "      <th>genre</th>\n",
       "      <th>na_sales</th>\n",
       "      <th>eu_sales</th>\n",
       "      <th>jp_sales</th>\n",
       "      <th>other_sales</th>\n",
       "      <th>critic_score</th>\n",
       "      <th>user_score</th>\n",
       "      <th>rating</th>\n",
       "    </tr>\n",
       "  </thead>\n",
       "  <tbody>\n",
       "    <tr>\n",
       "      <th>257</th>\n",
       "      <td>Sonic the Hedgehog</td>\n",
       "      <td>GEN</td>\n",
       "      <td>1991</td>\n",
       "      <td>Platform</td>\n",
       "      <td>3.03</td>\n",
       "      <td>0.91</td>\n",
       "      <td>0.26</td>\n",
       "      <td>0.13</td>\n",
       "      <td>71</td>\n",
       "      <td>7.5</td>\n",
       "      <td>Unknown</td>\n",
       "    </tr>\n",
       "    <tr>\n",
       "      <th>1745</th>\n",
       "      <td>Sonic the Hedgehog</td>\n",
       "      <td>PS3</td>\n",
       "      <td>2006</td>\n",
       "      <td>Platform</td>\n",
       "      <td>0.41</td>\n",
       "      <td>0.54</td>\n",
       "      <td>0.04</td>\n",
       "      <td>0.66</td>\n",
       "      <td>43</td>\n",
       "      <td>4.1</td>\n",
       "      <td>E10+</td>\n",
       "    </tr>\n",
       "    <tr>\n",
       "      <th>1996</th>\n",
       "      <td>Sonic the Hedgehog</td>\n",
       "      <td>X360</td>\n",
       "      <td>2006</td>\n",
       "      <td>Platform</td>\n",
       "      <td>0.44</td>\n",
       "      <td>0.48</td>\n",
       "      <td>0.00</td>\n",
       "      <td>0.11</td>\n",
       "      <td>46</td>\n",
       "      <td>4.4</td>\n",
       "      <td>E10+</td>\n",
       "    </tr>\n",
       "  </tbody>\n",
       "</table>\n",
       "</div>"
      ],
      "text/plain": [
       "                    name platform  year_of_release     genre  na_sales  \\\n",
       "257   Sonic the Hedgehog      GEN             1991  Platform      3.03   \n",
       "1745  Sonic the Hedgehog      PS3             2006  Platform      0.41   \n",
       "1996  Sonic the Hedgehog     X360             2006  Platform      0.44   \n",
       "\n",
       "      eu_sales  jp_sales  other_sales  critic_score  user_score   rating  \n",
       "257       0.91      0.26         0.13            71         7.5  Unknown  \n",
       "1745      0.54      0.04         0.66            43         4.1     E10+  \n",
       "1996      0.48      0.00         0.11            46         4.4     E10+  "
      ]
     },
     "metadata": {},
     "output_type": "display_data"
    }
   ],
   "source": [
    "display(df_games[df_games['name']=='Madden NFL 13'])\n",
    "display(df_games[df_games['name']=='Sonic the Hedgehog'])"
   ]
  },
  {
   "cell_type": "markdown",
   "metadata": {},
   "source": [
    "### Enrichment"
   ]
  },
  {
   "cell_type": "markdown",
   "metadata": {},
   "source": [
    "Now that all duplicates have been removed from the DataFrame, it is time to start enriching the data. Start with finding the total sales of each game and creating a new column in the DataFrame for it."
   ]
  },
  {
   "cell_type": "code",
   "execution_count": 310,
   "metadata": {},
   "outputs": [
    {
     "data": {
      "text/html": [
       "<div>\n",
       "<style scoped>\n",
       "    .dataframe tbody tr th:only-of-type {\n",
       "        vertical-align: middle;\n",
       "    }\n",
       "\n",
       "    .dataframe tbody tr th {\n",
       "        vertical-align: top;\n",
       "    }\n",
       "\n",
       "    .dataframe thead th {\n",
       "        text-align: right;\n",
       "    }\n",
       "</style>\n",
       "<table border=\"1\" class=\"dataframe\">\n",
       "  <thead>\n",
       "    <tr style=\"text-align: right;\">\n",
       "      <th></th>\n",
       "      <th>name</th>\n",
       "      <th>platform</th>\n",
       "      <th>year_of_release</th>\n",
       "      <th>genre</th>\n",
       "      <th>na_sales</th>\n",
       "      <th>eu_sales</th>\n",
       "      <th>jp_sales</th>\n",
       "      <th>other_sales</th>\n",
       "      <th>critic_score</th>\n",
       "      <th>user_score</th>\n",
       "      <th>rating</th>\n",
       "      <th>total_sales</th>\n",
       "    </tr>\n",
       "  </thead>\n",
       "  <tbody>\n",
       "    <tr>\n",
       "      <th>0</th>\n",
       "      <td>Wii Sports</td>\n",
       "      <td>Wii</td>\n",
       "      <td>2006</td>\n",
       "      <td>Sports</td>\n",
       "      <td>41.36</td>\n",
       "      <td>28.96</td>\n",
       "      <td>3.77</td>\n",
       "      <td>8.45</td>\n",
       "      <td>76</td>\n",
       "      <td>8.0</td>\n",
       "      <td>E</td>\n",
       "      <td>82.54</td>\n",
       "    </tr>\n",
       "    <tr>\n",
       "      <th>1</th>\n",
       "      <td>Super Mario Bros.</td>\n",
       "      <td>NES</td>\n",
       "      <td>1985</td>\n",
       "      <td>Platform</td>\n",
       "      <td>29.08</td>\n",
       "      <td>3.58</td>\n",
       "      <td>6.81</td>\n",
       "      <td>0.77</td>\n",
       "      <td>71</td>\n",
       "      <td>7.5</td>\n",
       "      <td>Unknown</td>\n",
       "      <td>40.24</td>\n",
       "    </tr>\n",
       "    <tr>\n",
       "      <th>2</th>\n",
       "      <td>Mario Kart Wii</td>\n",
       "      <td>Wii</td>\n",
       "      <td>2008</td>\n",
       "      <td>Racing</td>\n",
       "      <td>15.68</td>\n",
       "      <td>12.76</td>\n",
       "      <td>3.79</td>\n",
       "      <td>3.29</td>\n",
       "      <td>82</td>\n",
       "      <td>8.3</td>\n",
       "      <td>E</td>\n",
       "      <td>35.52</td>\n",
       "    </tr>\n",
       "    <tr>\n",
       "      <th>3</th>\n",
       "      <td>Wii Sports Resort</td>\n",
       "      <td>Wii</td>\n",
       "      <td>2009</td>\n",
       "      <td>Sports</td>\n",
       "      <td>15.61</td>\n",
       "      <td>10.93</td>\n",
       "      <td>3.28</td>\n",
       "      <td>2.95</td>\n",
       "      <td>80</td>\n",
       "      <td>8.0</td>\n",
       "      <td>E</td>\n",
       "      <td>32.77</td>\n",
       "    </tr>\n",
       "    <tr>\n",
       "      <th>4</th>\n",
       "      <td>Pokemon Red/Pokemon Blue</td>\n",
       "      <td>GB</td>\n",
       "      <td>1996</td>\n",
       "      <td>Role-Playing</td>\n",
       "      <td>11.27</td>\n",
       "      <td>8.89</td>\n",
       "      <td>10.22</td>\n",
       "      <td>1.00</td>\n",
       "      <td>71</td>\n",
       "      <td>7.5</td>\n",
       "      <td>Unknown</td>\n",
       "      <td>31.38</td>\n",
       "    </tr>\n",
       "    <tr>\n",
       "      <th>5</th>\n",
       "      <td>Tetris</td>\n",
       "      <td>GB</td>\n",
       "      <td>1989</td>\n",
       "      <td>Puzzle</td>\n",
       "      <td>23.20</td>\n",
       "      <td>2.26</td>\n",
       "      <td>4.22</td>\n",
       "      <td>0.58</td>\n",
       "      <td>71</td>\n",
       "      <td>7.5</td>\n",
       "      <td>Unknown</td>\n",
       "      <td>30.26</td>\n",
       "    </tr>\n",
       "    <tr>\n",
       "      <th>6</th>\n",
       "      <td>New Super Mario Bros.</td>\n",
       "      <td>DS</td>\n",
       "      <td>2006</td>\n",
       "      <td>Platform</td>\n",
       "      <td>11.28</td>\n",
       "      <td>9.14</td>\n",
       "      <td>6.50</td>\n",
       "      <td>2.88</td>\n",
       "      <td>89</td>\n",
       "      <td>8.5</td>\n",
       "      <td>E</td>\n",
       "      <td>29.80</td>\n",
       "    </tr>\n",
       "    <tr>\n",
       "      <th>7</th>\n",
       "      <td>Wii Play</td>\n",
       "      <td>Wii</td>\n",
       "      <td>2006</td>\n",
       "      <td>Misc</td>\n",
       "      <td>13.96</td>\n",
       "      <td>9.18</td>\n",
       "      <td>2.93</td>\n",
       "      <td>2.84</td>\n",
       "      <td>58</td>\n",
       "      <td>6.6</td>\n",
       "      <td>E</td>\n",
       "      <td>28.91</td>\n",
       "    </tr>\n",
       "    <tr>\n",
       "      <th>8</th>\n",
       "      <td>New Super Mario Bros. Wii</td>\n",
       "      <td>Wii</td>\n",
       "      <td>2009</td>\n",
       "      <td>Platform</td>\n",
       "      <td>14.44</td>\n",
       "      <td>6.94</td>\n",
       "      <td>4.70</td>\n",
       "      <td>2.24</td>\n",
       "      <td>87</td>\n",
       "      <td>8.4</td>\n",
       "      <td>E</td>\n",
       "      <td>28.32</td>\n",
       "    </tr>\n",
       "    <tr>\n",
       "      <th>9</th>\n",
       "      <td>Duck Hunt</td>\n",
       "      <td>NES</td>\n",
       "      <td>1984</td>\n",
       "      <td>Shooter</td>\n",
       "      <td>26.93</td>\n",
       "      <td>0.63</td>\n",
       "      <td>0.28</td>\n",
       "      <td>0.47</td>\n",
       "      <td>71</td>\n",
       "      <td>7.5</td>\n",
       "      <td>Unknown</td>\n",
       "      <td>28.31</td>\n",
       "    </tr>\n",
       "  </tbody>\n",
       "</table>\n",
       "</div>"
      ],
      "text/plain": [
       "                        name platform  year_of_release         genre  \\\n",
       "0                 Wii Sports      Wii             2006        Sports   \n",
       "1          Super Mario Bros.      NES             1985      Platform   \n",
       "2             Mario Kart Wii      Wii             2008        Racing   \n",
       "3          Wii Sports Resort      Wii             2009        Sports   \n",
       "4   Pokemon Red/Pokemon Blue       GB             1996  Role-Playing   \n",
       "5                     Tetris       GB             1989        Puzzle   \n",
       "6      New Super Mario Bros.       DS             2006      Platform   \n",
       "7                   Wii Play      Wii             2006          Misc   \n",
       "8  New Super Mario Bros. Wii      Wii             2009      Platform   \n",
       "9                  Duck Hunt      NES             1984       Shooter   \n",
       "\n",
       "   na_sales  eu_sales  jp_sales  other_sales  critic_score  user_score  \\\n",
       "0     41.36     28.96      3.77         8.45            76         8.0   \n",
       "1     29.08      3.58      6.81         0.77            71         7.5   \n",
       "2     15.68     12.76      3.79         3.29            82         8.3   \n",
       "3     15.61     10.93      3.28         2.95            80         8.0   \n",
       "4     11.27      8.89     10.22         1.00            71         7.5   \n",
       "5     23.20      2.26      4.22         0.58            71         7.5   \n",
       "6     11.28      9.14      6.50         2.88            89         8.5   \n",
       "7     13.96      9.18      2.93         2.84            58         6.6   \n",
       "8     14.44      6.94      4.70         2.24            87         8.4   \n",
       "9     26.93      0.63      0.28         0.47            71         7.5   \n",
       "\n",
       "    rating  total_sales  \n",
       "0        E        82.54  \n",
       "1  Unknown        40.24  \n",
       "2        E        35.52  \n",
       "3        E        32.77  \n",
       "4  Unknown        31.38  \n",
       "5  Unknown        30.26  \n",
       "6        E        29.80  \n",
       "7        E        28.91  \n",
       "8        E        28.32  \n",
       "9  Unknown        28.31  "
      ]
     },
     "metadata": {},
     "output_type": "display_data"
    }
   ],
   "source": [
    "df_games['total_sales'] = df_games['na_sales'] + df_games['eu_sales'] + df_games['jp_sales'] + df_games['other_sales']\n",
    "display(df_games.head(10))"
   ]
  },
  {
   "cell_type": "markdown",
   "metadata": {},
   "source": [
    "## Comparing Platform Sales "
   ]
  },
  {
   "cell_type": "markdown",
   "metadata": {},
   "source": [
    "### Most Popular Platform"
   ]
  },
  {
   "cell_type": "code",
   "execution_count": 311,
   "metadata": {},
   "outputs": [
    {
     "data": {
      "text/plain": [
       "[['Wii', 907.51],\n",
       " ['NES', 251.05],\n",
       " ['GB', 255.46],\n",
       " ['DS', 806.12],\n",
       " ['X360', 971.42],\n",
       " ['PS3', 939.65],\n",
       " ['PS2', 1255.77],\n",
       " ['SNES', 200.04],\n",
       " ['GBA', 317.85],\n",
       " ['PS4', 314.14],\n",
       " ['3DS', 259.0],\n",
       " ['N64', 218.68],\n",
       " ['PS', 730.86],\n",
       " ['XB', 257.74],\n",
       " ['PC', 259.52],\n",
       " ['2600', 96.98],\n",
       " ['PSP', 294.05],\n",
       " ['XOne', 159.32],\n",
       " ['WiiU', 82.19],\n",
       " ['GC', 198.93],\n",
       " ['GEN', 30.77],\n",
       " ['DC', 15.95],\n",
       " ['PSV', 54.07],\n",
       " ['SAT', 33.59],\n",
       " ['SCD', 1.86],\n",
       " ['WS', 1.42],\n",
       " ['NG', 1.44],\n",
       " ['TG16', 0.16],\n",
       " ['3DO', 0.1],\n",
       " ['GG', 0.04],\n",
       " ['PCFX', 0.03]]"
      ]
     },
     "metadata": {},
     "output_type": "display_data"
    }
   ],
   "source": [
    "platform_sales = []\n",
    "platform_choice = df_games['platform'].unique()\n",
    "for platform in platform_choice:\n",
    "    platform_sales.append([platform,round(df_games[(df_games['platform']==platform)]['total_sales'].sum(),2)])\n",
    "display(platform_sales)"
   ]
  },
  {
   "cell_type": "markdown",
   "metadata": {},
   "source": [
    "The PS2 had the most total sales next to every other platform in this dataset. Now it is time to build distributions on the PS2 data to see when they were popular, and use their primetime years to evaluate how and why they were so successful."
   ]
  },
  {
   "cell_type": "code",
   "execution_count": 312,
   "metadata": {},
   "outputs": [
    {
     "data": {
      "text/html": [
       "<div>\n",
       "<style scoped>\n",
       "    .dataframe tbody tr th:only-of-type {\n",
       "        vertical-align: middle;\n",
       "    }\n",
       "\n",
       "    .dataframe tbody tr th {\n",
       "        vertical-align: top;\n",
       "    }\n",
       "\n",
       "    .dataframe thead th {\n",
       "        text-align: right;\n",
       "    }\n",
       "</style>\n",
       "<table border=\"1\" class=\"dataframe\">\n",
       "  <thead>\n",
       "    <tr style=\"text-align: right;\">\n",
       "      <th></th>\n",
       "      <th>name</th>\n",
       "      <th>platform</th>\n",
       "      <th>year_of_release</th>\n",
       "      <th>genre</th>\n",
       "      <th>na_sales</th>\n",
       "      <th>eu_sales</th>\n",
       "      <th>jp_sales</th>\n",
       "      <th>other_sales</th>\n",
       "      <th>critic_score</th>\n",
       "      <th>user_score</th>\n",
       "      <th>rating</th>\n",
       "      <th>total_sales</th>\n",
       "    </tr>\n",
       "  </thead>\n",
       "  <tbody>\n",
       "    <tr>\n",
       "      <th>17</th>\n",
       "      <td>Grand Theft Auto: San Andreas</td>\n",
       "      <td>PS2</td>\n",
       "      <td>2004</td>\n",
       "      <td>Action</td>\n",
       "      <td>9.43</td>\n",
       "      <td>0.40</td>\n",
       "      <td>0.41</td>\n",
       "      <td>10.57</td>\n",
       "      <td>95</td>\n",
       "      <td>9.0</td>\n",
       "      <td>M</td>\n",
       "      <td>20.81</td>\n",
       "    </tr>\n",
       "    <tr>\n",
       "      <th>24</th>\n",
       "      <td>Grand Theft Auto: Vice City</td>\n",
       "      <td>PS2</td>\n",
       "      <td>2002</td>\n",
       "      <td>Action</td>\n",
       "      <td>8.41</td>\n",
       "      <td>5.49</td>\n",
       "      <td>0.47</td>\n",
       "      <td>1.78</td>\n",
       "      <td>95</td>\n",
       "      <td>8.7</td>\n",
       "      <td>M</td>\n",
       "      <td>16.15</td>\n",
       "    </tr>\n",
       "    <tr>\n",
       "      <th>28</th>\n",
       "      <td>Gran Turismo 3: A-Spec</td>\n",
       "      <td>PS2</td>\n",
       "      <td>2001</td>\n",
       "      <td>Racing</td>\n",
       "      <td>6.85</td>\n",
       "      <td>5.09</td>\n",
       "      <td>1.87</td>\n",
       "      <td>1.16</td>\n",
       "      <td>95</td>\n",
       "      <td>8.4</td>\n",
       "      <td>E</td>\n",
       "      <td>14.97</td>\n",
       "    </tr>\n",
       "    <tr>\n",
       "      <th>38</th>\n",
       "      <td>Grand Theft Auto III</td>\n",
       "      <td>PS2</td>\n",
       "      <td>2001</td>\n",
       "      <td>Action</td>\n",
       "      <td>6.99</td>\n",
       "      <td>4.51</td>\n",
       "      <td>0.30</td>\n",
       "      <td>1.30</td>\n",
       "      <td>97</td>\n",
       "      <td>8.5</td>\n",
       "      <td>M</td>\n",
       "      <td>13.10</td>\n",
       "    </tr>\n",
       "    <tr>\n",
       "      <th>48</th>\n",
       "      <td>Gran Turismo 4</td>\n",
       "      <td>PS2</td>\n",
       "      <td>2004</td>\n",
       "      <td>Racing</td>\n",
       "      <td>3.01</td>\n",
       "      <td>0.01</td>\n",
       "      <td>1.10</td>\n",
       "      <td>7.53</td>\n",
       "      <td>89</td>\n",
       "      <td>8.5</td>\n",
       "      <td>E</td>\n",
       "      <td>11.65</td>\n",
       "    </tr>\n",
       "  </tbody>\n",
       "</table>\n",
       "</div>"
      ],
      "text/plain": [
       "                             name platform  year_of_release   genre  na_sales  \\\n",
       "17  Grand Theft Auto: San Andreas      PS2             2004  Action      9.43   \n",
       "24    Grand Theft Auto: Vice City      PS2             2002  Action      8.41   \n",
       "28         Gran Turismo 3: A-Spec      PS2             2001  Racing      6.85   \n",
       "38           Grand Theft Auto III      PS2             2001  Action      6.99   \n",
       "48                 Gran Turismo 4      PS2             2004  Racing      3.01   \n",
       "\n",
       "    eu_sales  jp_sales  other_sales  critic_score  user_score rating  \\\n",
       "17      0.40      0.41        10.57            95         9.0      M   \n",
       "24      5.49      0.47         1.78            95         8.7      M   \n",
       "28      5.09      1.87         1.16            95         8.4      E   \n",
       "38      4.51      0.30         1.30            97         8.5      M   \n",
       "48      0.01      1.10         7.53            89         8.5      E   \n",
       "\n",
       "    total_sales  \n",
       "17        20.81  \n",
       "24        16.15  \n",
       "28        14.97  \n",
       "38        13.10  \n",
       "48        11.65  "
      ]
     },
     "metadata": {},
     "output_type": "display_data"
    }
   ],
   "source": [
    "ps2_games = df_games[(df_games['platform']=='PS2')]\n",
    "display(ps2_games.head())"
   ]
  },
  {
   "cell_type": "markdown",
   "metadata": {},
   "source": [
    "### Specifying Timeline"
   ]
  },
  {
   "cell_type": "code",
   "execution_count": 313,
   "metadata": {},
   "outputs": [
    {
     "data": {
      "text/plain": [
       "year_of_release\n",
       "2000     82\n",
       "2001    185\n",
       "2002    280\n",
       "2003    256\n",
       "2004    259\n",
       "2005    260\n",
       "2006    259\n",
       "2007    248\n",
       "2008    191\n",
       "2009     96\n",
       "2010     38\n",
       "2011      7\n",
       "Name: name, dtype: int64"
      ]
     },
     "metadata": {},
     "output_type": "display_data"
    }
   ],
   "source": [
    "display(ps2_games.groupby('year_of_release')['name'].count())"
   ]
  },
  {
   "cell_type": "markdown",
   "metadata": {},
   "source": [
    "Based on the ps2 data by year, the platform was creating games from 2000-2011. This is the time period I will be focusing on to further analyze the data."
   ]
  },
  {
   "cell_type": "code",
   "execution_count": 314,
   "metadata": {},
   "outputs": [],
   "source": [
    "relevant_games = df_games[(df_games['year_of_release'] >= 2000) & (df_games['year_of_release'] <= 2011)]"
   ]
  },
  {
   "cell_type": "code",
   "execution_count": 315,
   "metadata": {},
   "outputs": [
    {
     "data": {
      "text/plain": [
       "platform\n",
       "2600      10.50\n",
       "3DS       64.39\n",
       "DC         7.41\n",
       "DS       793.55\n",
       "GB        30.03\n",
       "GBA      317.85\n",
       "GC       198.93\n",
       "N64       37.97\n",
       "PC       146.83\n",
       "PS       143.98\n",
       "PS2     1255.77\n",
       "PS3      650.86\n",
       "PSP      282.86\n",
       "PSV        4.89\n",
       "WS         0.96\n",
       "Wii      872.14\n",
       "X360     734.88\n",
       "XB       257.74\n",
       "Name: total_sales, dtype: float64"
      ]
     },
     "metadata": {},
     "output_type": "display_data"
    }
   ],
   "source": [
    "display(relevant_games.groupby('platform')['total_sales'].sum())"
   ]
  },
  {
   "cell_type": "markdown",
   "metadata": {},
   "source": [
    "In this timeframe, besides the PS2, the DS, Wii, and XBOX 360 are leading in sales. The PS3 is not too far behind. Let's see which of these are growing, and which are shrinking."
   ]
  },
  {
   "cell_type": "code",
   "execution_count": 316,
   "metadata": {},
   "outputs": [
    {
     "data": {
      "image/png": "[encoded data removed]",
      "text/plain": [
       "<Figure size 432x288 with 1 Axes>"
      ]
     },
     "metadata": {
      "needs_background": "light"
     },
     "output_type": "display_data"
    }
   ],
   "source": [
    "for popular_platform in ['PS2','X360','PS3','Wii','DS','GBA']:\n",
    "    relevant_games[relevant_games['platform']==popular_platform].groupby('year_of_release')['total_sales'].sum().plot()\n",
    "plt.legend(['PS2','X360','PS3','Wii','DS','GBA'])\n",
    "plt.show()"
   ]
  },
  {
   "cell_type": "markdown",
   "metadata": {},
   "source": [
    "In this timeframe, we saw the ps2 rise and fall, along with the DS, and even the Wii. The XBOX 360 was still high and it is inconclusive if it was falling, or if it just had a slow year. With the fall of the PS2, it was clear that the rise of the PS3 was underway. A very successful platform maybe has a lifespan of popularity of about 10 years. An average platform seems to rise and fall in about 6-7 years."
   ]
  },
  {
   "cell_type": "code",
   "execution_count": 317,
   "metadata": {},
   "outputs": [
    {
     "data": {
      "image/png": "[encoded data removed]",
      "text/plain": [
       "<Figure size 432x288 with 1 Axes>"
      ]
     },
     "metadata": {
      "needs_background": "light"
     },
     "output_type": "display_data"
    }
   ],
   "source": [
    "data = []\n",
    "for platform in relevant_games['platform'].unique():\n",
    "    data.append(relevant_games[relevant_games['platform']==platform].groupby('year_of_release')['total_sales'].sum())\n",
    "plt.boxplot(data,vert=False,showfliers=True,labels=relevant_games['platform'].unique())\n",
    "plt.show()"
   ]
  },
  {
   "cell_type": "markdown",
   "metadata": {},
   "source": [
    "The difference in sales is very significant between platforms. The most popular platforms have median yearly total sales over triple the less popular platforms. For the largest platforms, their yearly sales were around 120, and the other platforms had yearly sales around 40 or less. Given the timeframe covers the entire existence of the ps2, it has the widest range of yearly sales. On the opposite side, a platform like the 2600 only has data from one year, 2007, in this entire timeframe. Therefore, its range is just one value. The most competitive platforms in this timeframe to the PS2, besides the PS3 since they are the same company, was the XBOX 360, DS, and Wii. "
   ]
  },
  {
   "cell_type": "markdown",
   "metadata": {},
   "source": [
    "### Other Popular Platform"
   ]
  },
  {
   "cell_type": "markdown",
   "metadata": {},
   "source": [
    "I will now take a closer look at the XBOX 360, my personal favorite console, and see how its sales were affected by users, and professional critics. "
   ]
  },
  {
   "cell_type": "code",
   "execution_count": 318,
   "metadata": {},
   "outputs": [],
   "source": [
    "xbox_games = relevant_games[relevant_games['platform']=='X360']"
   ]
  },
  {
   "cell_type": "code",
   "execution_count": 319,
   "metadata": {},
   "outputs": [
    {
     "data": {
      "text/plain": [
       "<AxesSubplot:title={'center':'Sales vs Critics'}, xlabel='Critic Score', ylabel='Total Sales (USD)'>"
      ]
     },
     "execution_count": 319,
     "metadata": {},
     "output_type": "execute_result"
    },
    {
     "data": {
      "image/png": "[encoded data removed]",
      "text/plain": [
       "<Figure size 432x288 with 1 Axes>"
      ]
     },
     "metadata": {
      "needs_background": "light"
     },
     "output_type": "display_data"
    },
    {
     "data": {
      "image/png": "[encoded data removed]",
      "text/plain": [
       "<Figure size 432x288 with 1 Axes>"
      ]
     },
     "metadata": {
      "needs_background": "light"
     },
     "output_type": "display_data"
    }
   ],
   "source": [
    "xbox_games.plot(\n",
    "                kind='scatter',\n",
    "                title='Sales vs Users',\n",
    "                x='user_score',\n",
    "                y='total_sales',\n",
    "                xlabel='User Score',\n",
    "                ylabel='Total Sales (USD)'\n",
    ")\n",
    "xbox_games.plot(\n",
    "                kind='scatter',\n",
    "                title='Sales vs Critics',\n",
    "                x='critic_score',\n",
    "                y='total_sales',\n",
    "                xlabel='Critic Score',\n",
    "                ylabel='Total Sales (USD)'\n",
    ")"
   ]
  },
  {
   "cell_type": "markdown",
   "metadata": {},
   "source": [
    "Based on the scatterplots, there seems to be a little correlation between sales and scores of both critics and users. The effect is not noticed until the user and critic scores are in the top about 20% of scores. The exception to this general rule is the game that Nintendo geniusely included, Wii Sports. This strategy provided all new players with an immediate game and a quick boost. Time to run a quick formality of testing hypotheses on sales versus critics and users."
   ]
  },
  {
   "cell_type": "markdown",
   "metadata": {},
   "source": [
    "Null Hypothesis: Total Sales are affected by the scores of critics, and users."
   ]
  },
  {
   "cell_type": "markdown",
   "metadata": {},
   "source": [
    "Alternate Hypothesis: Total Sales are not affected by the scores of critics, and users."
   ]
  },
  {
   "cell_type": "code",
   "execution_count": 320,
   "metadata": {},
   "outputs": [
    {
     "data": {
      "text/plain": [
       "'p-value:'"
      ]
     },
     "metadata": {},
     "output_type": "display_data"
    },
    {
     "data": {
      "text/plain": [
       "5.696350956732077e-17"
      ]
     },
     "metadata": {},
     "output_type": "display_data"
    },
    {
     "data": {
      "text/plain": [
       "'We reject the null hypothesis: sales were not significantly affected by user scores.'"
      ]
     },
     "metadata": {},
     "output_type": "display_data"
    }
   ],
   "source": [
    "alpha = 0.05\n",
    "results = stats.ttest_ind(xbox_games.groupby('year_of_release')['total_sales'].mean() , xbox_games.groupby('year_of_release')['user_score'].mean() , equal_var=True)\n",
    "\n",
    "display('p-value:', results.pvalue)\n",
    "if (results.pvalue < alpha):\n",
    "    display(\"We reject the null hypothesis: sales were not significantly affected by user scores.\")\n",
    "else:\n",
    "    display(\"We can't reject the null hypothesis: sales were significantly affected by user scores.\")"
   ]
  },
  {
   "cell_type": "code",
   "execution_count": 321,
   "metadata": {},
   "outputs": [
    {
     "data": {
      "text/plain": [
       "'p-value:'"
      ]
     },
     "metadata": {},
     "output_type": "display_data"
    },
    {
     "data": {
      "text/plain": [
       "1.8758878570575626e-16"
      ]
     },
     "metadata": {},
     "output_type": "display_data"
    },
    {
     "data": {
      "text/plain": [
       "'We reject the null hypothesis: sales were not significantly affected by critic scores.'"
      ]
     },
     "metadata": {},
     "output_type": "display_data"
    }
   ],
   "source": [
    "results = stats.ttest_ind(xbox_games.groupby('year_of_release')['total_sales'].mean() , xbox_games.groupby('year_of_release')['critic_score'].mean() , equal_var=True)\n",
    "\n",
    "display('p-value:', results.pvalue)\n",
    "if (results.pvalue < alpha):\n",
    "    display(\"We reject the null hypothesis: sales were not significantly affected by critic scores.\")\n",
    "else:\n",
    "    display(\"We can't reject the null hypothesis: sales were significantly affected by critic scores.\")"
   ]
  },
  {
   "cell_type": "markdown",
   "metadata": {},
   "source": [
    "### Multiple Platforms"
   ]
  },
  {
   "cell_type": "markdown",
   "metadata": {},
   "source": [
    "In this section, I am now going to find the games that are in the relevant timeframe of the data that are also on multiple platforms. "
   ]
  },
  {
   "cell_type": "code",
   "execution_count": 322,
   "metadata": {},
   "outputs": [],
   "source": [
    "multiple_platforms = relevant_games.groupby('name')['platform'].nunique()"
   ]
  },
  {
   "cell_type": "code",
   "execution_count": 323,
   "metadata": {},
   "outputs": [],
   "source": [
    "multiple_platforms = relevant_games.groupby('name').agg(platforms=('platform', 'nunique'))\n",
    "multiple_platform_game_names = multiple_platforms[multiple_platforms['platforms'] > 1].reset_index()['name']\n",
    "relevant_multiplatform_games = relevant_games[relevant_games['name'].isin(multiple_platform_game_names)].copy()"
   ]
  },
  {
   "cell_type": "markdown",
   "metadata": {},
   "source": [
    "Now that we have the multiplatform games, it is time to compare how sales are for the games on each of their platforms separately. I am not certain on the best way to do this, so for now, I will just choose a random game from the dataframe and plot its sales per platform, and run several trials and make note of the results. "
   ]
  },
  {
   "cell_type": "code",
   "execution_count": 324,
   "metadata": {},
   "outputs": [
    {
     "data": {
      "text/plain": [
       "<AxesSubplot:title={'center':'Donkey Kong Country Sales by Platform'}, xlabel='platform', ylabel='total_sales'>"
      ]
     },
     "execution_count": 324,
     "metadata": {},
     "output_type": "execute_result"
    },
    {
     "data": {
      "image/png": "[encoded data removed]",
      "text/plain": [
       "<Figure size 432x288 with 1 Axes>"
      ]
     },
     "metadata": {
      "needs_background": "light"
     },
     "output_type": "display_data"
    }
   ],
   "source": [
    "game = random.choice(relevant_multiplatform_games['name'].unique())\n",
    "relevant_multiplatform_games[relevant_multiplatform_games['name']==game].sort_values(by='platform').plot(\n",
    "    kind='scatter',\n",
    "    x='platform',\n",
    "    y='total_sales',\n",
    "    title=f'{game} Sales by Platform',\n",
    "    ylim=(0,relevant_multiplatform_games[relevant_multiplatform_games['name']==game]['total_sales'].sum())\n",
    ")\n"
   ]
  },
  {
   "cell_type": "markdown",
   "metadata": {},
   "source": []
  },
  {
   "cell_type": "markdown",
   "metadata": {},
   "source": [
    "Now it is time to compare sales by genre of games. To do this, I will make a dataframe where each column name is a genre, and the entries will be the sale totals for the games of those specific genres. Since putting in a bunch of zeros for the empty cells will skew the averages greatly and make everything seem less profitable, I will leave empty cells empty for now and just plot the existing values on boxplots side by side."
   ]
  },
  {
   "cell_type": "code",
   "execution_count": 325,
   "metadata": {},
   "outputs": [
    {
     "data": {
      "text/html": [
       "<div>\n",
       "<style scoped>\n",
       "    .dataframe tbody tr th:only-of-type {\n",
       "        vertical-align: middle;\n",
       "    }\n",
       "\n",
       "    .dataframe tbody tr th {\n",
       "        vertical-align: top;\n",
       "    }\n",
       "\n",
       "    .dataframe thead th {\n",
       "        text-align: right;\n",
       "    }\n",
       "</style>\n",
       "<table border=\"1\" class=\"dataframe\">\n",
       "  <thead>\n",
       "    <tr style=\"text-align: right;\">\n",
       "      <th></th>\n",
       "      <th>Action</th>\n",
       "      <th>Shooter</th>\n",
       "      <th>Misc</th>\n",
       "      <th>Role-Playing</th>\n",
       "      <th>Simulation</th>\n",
       "      <th>Sports</th>\n",
       "      <th>Racing</th>\n",
       "      <th>Platform</th>\n",
       "      <th>Adventure</th>\n",
       "      <th>Fighting</th>\n",
       "      <th>Puzzle</th>\n",
       "      <th>Strategy</th>\n",
       "    </tr>\n",
       "  </thead>\n",
       "  <tbody>\n",
       "    <tr>\n",
       "      <th>17</th>\n",
       "      <td>20.81</td>\n",
       "      <td>NaN</td>\n",
       "      <td>NaN</td>\n",
       "      <td>NaN</td>\n",
       "      <td>NaN</td>\n",
       "      <td>NaN</td>\n",
       "      <td>NaN</td>\n",
       "      <td>NaN</td>\n",
       "      <td>NaN</td>\n",
       "      <td>NaN</td>\n",
       "      <td>NaN</td>\n",
       "      <td>NaN</td>\n",
       "    </tr>\n",
       "    <tr>\n",
       "      <th>24</th>\n",
       "      <td>16.15</td>\n",
       "      <td>NaN</td>\n",
       "      <td>NaN</td>\n",
       "      <td>NaN</td>\n",
       "      <td>NaN</td>\n",
       "      <td>NaN</td>\n",
       "      <td>NaN</td>\n",
       "      <td>NaN</td>\n",
       "      <td>NaN</td>\n",
       "      <td>NaN</td>\n",
       "      <td>NaN</td>\n",
       "      <td>NaN</td>\n",
       "    </tr>\n",
       "    <tr>\n",
       "      <th>29</th>\n",
       "      <td>NaN</td>\n",
       "      <td>14.73</td>\n",
       "      <td>NaN</td>\n",
       "      <td>NaN</td>\n",
       "      <td>NaN</td>\n",
       "      <td>NaN</td>\n",
       "      <td>NaN</td>\n",
       "      <td>NaN</td>\n",
       "      <td>NaN</td>\n",
       "      <td>NaN</td>\n",
       "      <td>NaN</td>\n",
       "      <td>NaN</td>\n",
       "    </tr>\n",
       "    <tr>\n",
       "      <th>32</th>\n",
       "      <td>NaN</td>\n",
       "      <td>14.62</td>\n",
       "      <td>NaN</td>\n",
       "      <td>NaN</td>\n",
       "      <td>NaN</td>\n",
       "      <td>NaN</td>\n",
       "      <td>NaN</td>\n",
       "      <td>NaN</td>\n",
       "      <td>NaN</td>\n",
       "      <td>NaN</td>\n",
       "      <td>NaN</td>\n",
       "      <td>NaN</td>\n",
       "    </tr>\n",
       "    <tr>\n",
       "      <th>36</th>\n",
       "      <td>NaN</td>\n",
       "      <td>13.47</td>\n",
       "      <td>NaN</td>\n",
       "      <td>NaN</td>\n",
       "      <td>NaN</td>\n",
       "      <td>NaN</td>\n",
       "      <td>NaN</td>\n",
       "      <td>NaN</td>\n",
       "      <td>NaN</td>\n",
       "      <td>NaN</td>\n",
       "      <td>NaN</td>\n",
       "      <td>NaN</td>\n",
       "    </tr>\n",
       "    <tr>\n",
       "      <th>...</th>\n",
       "      <td>...</td>\n",
       "      <td>...</td>\n",
       "      <td>...</td>\n",
       "      <td>...</td>\n",
       "      <td>...</td>\n",
       "      <td>...</td>\n",
       "      <td>...</td>\n",
       "      <td>...</td>\n",
       "      <td>...</td>\n",
       "      <td>...</td>\n",
       "      <td>...</td>\n",
       "      <td>...</td>\n",
       "    </tr>\n",
       "    <tr>\n",
       "      <th>16673</th>\n",
       "      <td>NaN</td>\n",
       "      <td>NaN</td>\n",
       "      <td>NaN</td>\n",
       "      <td>NaN</td>\n",
       "      <td>NaN</td>\n",
       "      <td>NaN</td>\n",
       "      <td>NaN</td>\n",
       "      <td>NaN</td>\n",
       "      <td>NaN</td>\n",
       "      <td>0.01</td>\n",
       "      <td>NaN</td>\n",
       "      <td>NaN</td>\n",
       "    </tr>\n",
       "    <tr>\n",
       "      <th>16690</th>\n",
       "      <td>NaN</td>\n",
       "      <td>NaN</td>\n",
       "      <td>NaN</td>\n",
       "      <td>NaN</td>\n",
       "      <td>0.01</td>\n",
       "      <td>NaN</td>\n",
       "      <td>NaN</td>\n",
       "      <td>NaN</td>\n",
       "      <td>NaN</td>\n",
       "      <td>NaN</td>\n",
       "      <td>NaN</td>\n",
       "      <td>NaN</td>\n",
       "    </tr>\n",
       "    <tr>\n",
       "      <th>16706</th>\n",
       "      <td>NaN</td>\n",
       "      <td>0.01</td>\n",
       "      <td>NaN</td>\n",
       "      <td>NaN</td>\n",
       "      <td>NaN</td>\n",
       "      <td>NaN</td>\n",
       "      <td>NaN</td>\n",
       "      <td>NaN</td>\n",
       "      <td>NaN</td>\n",
       "      <td>NaN</td>\n",
       "      <td>NaN</td>\n",
       "      <td>NaN</td>\n",
       "    </tr>\n",
       "    <tr>\n",
       "      <th>16709</th>\n",
       "      <td>NaN</td>\n",
       "      <td>NaN</td>\n",
       "      <td>NaN</td>\n",
       "      <td>NaN</td>\n",
       "      <td>NaN</td>\n",
       "      <td>NaN</td>\n",
       "      <td>0.0</td>\n",
       "      <td>NaN</td>\n",
       "      <td>NaN</td>\n",
       "      <td>NaN</td>\n",
       "      <td>NaN</td>\n",
       "      <td>NaN</td>\n",
       "    </tr>\n",
       "    <tr>\n",
       "      <th>16713</th>\n",
       "      <td>NaN</td>\n",
       "      <td>NaN</td>\n",
       "      <td>NaN</td>\n",
       "      <td>NaN</td>\n",
       "      <td>NaN</td>\n",
       "      <td>NaN</td>\n",
       "      <td>NaN</td>\n",
       "      <td>0.01</td>\n",
       "      <td>NaN</td>\n",
       "      <td>NaN</td>\n",
       "      <td>NaN</td>\n",
       "      <td>NaN</td>\n",
       "    </tr>\n",
       "  </tbody>\n",
       "</table>\n",
       "<p>5548 rows × 12 columns</p>\n",
       "</div>"
      ],
      "text/plain": [
       "       Action  Shooter  Misc  Role-Playing  Simulation  Sports  Racing  \\\n",
       "17      20.81      NaN   NaN           NaN         NaN     NaN     NaN   \n",
       "24      16.15      NaN   NaN           NaN         NaN     NaN     NaN   \n",
       "29        NaN    14.73   NaN           NaN         NaN     NaN     NaN   \n",
       "32        NaN    14.62   NaN           NaN         NaN     NaN     NaN   \n",
       "36        NaN    13.47   NaN           NaN         NaN     NaN     NaN   \n",
       "...       ...      ...   ...           ...         ...     ...     ...   \n",
       "16673     NaN      NaN   NaN           NaN         NaN     NaN     NaN   \n",
       "16690     NaN      NaN   NaN           NaN        0.01     NaN     NaN   \n",
       "16706     NaN     0.01   NaN           NaN         NaN     NaN     NaN   \n",
       "16709     NaN      NaN   NaN           NaN         NaN     NaN     0.0   \n",
       "16713     NaN      NaN   NaN           NaN         NaN     NaN     NaN   \n",
       "\n",
       "       Platform  Adventure  Fighting  Puzzle  Strategy  \n",
       "17          NaN        NaN       NaN     NaN       NaN  \n",
       "24          NaN        NaN       NaN     NaN       NaN  \n",
       "29          NaN        NaN       NaN     NaN       NaN  \n",
       "32          NaN        NaN       NaN     NaN       NaN  \n",
       "36          NaN        NaN       NaN     NaN       NaN  \n",
       "...         ...        ...       ...     ...       ...  \n",
       "16673       NaN        NaN      0.01     NaN       NaN  \n",
       "16690       NaN        NaN       NaN     NaN       NaN  \n",
       "16706       NaN        NaN       NaN     NaN       NaN  \n",
       "16709       NaN        NaN       NaN     NaN       NaN  \n",
       "16713      0.01        NaN       NaN     NaN       NaN  \n",
       "\n",
       "[5548 rows x 12 columns]"
      ]
     },
     "metadata": {},
     "output_type": "display_data"
    }
   ],
   "source": [
    "for genre in relevant_multiplatform_games['genre'].unique():\n",
    "    relevant_multiplatform_games[genre] = relevant_multiplatform_games[relevant_multiplatform_games['genre']==genre]['total_sales']\n",
    "sales_by_genre_df = pd.DataFrame(data=relevant_multiplatform_games[['Action', 'Shooter', 'Misc', 'Role-Playing', 'Simulation', 'Sports', 'Racing', 'Platform', 'Adventure', 'Fighting', 'Puzzle', 'Strategy']],columns=relevant_multiplatform_games['genre'].unique())\n",
    "relevant_multiplatform_games = relevant_multiplatform_games.drop(columns=['Action', 'Shooter', 'Misc', 'Role-Playing', 'Simulation', 'Sports', 'Racing', 'Platform', 'Adventure', 'Fighting', 'Puzzle', 'Strategy'])\n",
    "\n",
    "display(sales_by_genre_df)"
   ]
  },
  {
   "cell_type": "code",
   "execution_count": 326,
   "metadata": {},
   "outputs": [
    {
     "data": {
      "text/plain": [
       "Action          788.53\n",
       "Shooter         438.86\n",
       "Misc            253.88\n",
       "Role-Playing    132.93\n",
       "Simulation       86.09\n",
       "Sports          601.67\n",
       "Racing          269.37\n",
       "Platform        145.53\n",
       "Adventure        58.49\n",
       "Fighting        146.17\n",
       "Puzzle           21.96\n",
       "Strategy         22.01\n",
       "dtype: float64"
      ]
     },
     "metadata": {},
     "output_type": "display_data"
    }
   ],
   "source": [
    "display(sales_by_genre_df.sum())"
   ]
  },
  {
   "cell_type": "code",
   "execution_count": 327,
   "metadata": {},
   "outputs": [
    {
     "data": {
      "text/plain": [
       "<AxesSubplot:title={'center':'Sales by Genre Without Outliers'}>"
      ]
     },
     "execution_count": 327,
     "metadata": {},
     "output_type": "execute_result"
    },
    {
     "data": {
      "image/png": "[encoded data removed]",
      "text/plain": [
       "<Figure size 432x288 with 1 Axes>"
      ]
     },
     "metadata": {
      "needs_background": "light"
     },
     "output_type": "display_data"
    },
    {
     "data": {
      "image/png": "[encoded data removed]",
      "text/plain": [
       "<Figure size 432x288 with 1 Axes>"
      ]
     },
     "metadata": {
      "needs_background": "light"
     },
     "output_type": "display_data"
    }
   ],
   "source": [
    "sales_by_genre_df[['Action', 'Shooter', 'Misc', 'Role-Playing', 'Simulation', 'Sports', 'Racing', 'Platform', 'Adventure', 'Fighting', 'Puzzle', 'Strategy']].plot(\n",
    "    kind='box',\n",
    "    title='Sales by Genre With Outliers',\n",
    "    vert=False,\n",
    "    showfliers=True\n",
    ")\n",
    "sales_by_genre_df[['Action', 'Shooter', 'Misc', 'Role-Playing', 'Simulation', 'Sports', 'Racing', 'Platform', 'Adventure', 'Fighting', 'Puzzle', 'Strategy']].plot(\n",
    "    kind='box',\n",
    "    title='Sales by Genre Without Outliers',\n",
    "    vert=False,\n",
    "    showfliers=False\n",
    ")"
   ]
  },
  {
   "cell_type": "markdown",
   "metadata": {},
   "source": [
    "Looking at all of the genres side by side, without outliers paints a better general picture. Fighting games do better on average as the median sales is largest and even its upper and lower quartiles are higher than the other genres. However, when looking at the outliers, it can be argued that sports, action, and shooter games are the most successful. However, for these genres, if the games are not exceptional, they will not do as well."
   ]
  },
  {
   "cell_type": "markdown",
   "metadata": {},
   "source": [
    "## Regional Sales"
   ]
  },
  {
   "cell_type": "markdown",
   "metadata": {},
   "source": [
    "It is now time to determine the 5 most popular platforms and genres of each region and figure out if the ESRB rating affects the sales in each region. Starting with North America."
   ]
  },
  {
   "cell_type": "markdown",
   "metadata": {},
   "source": [
    "### North America Platforms"
   ]
  },
  {
   "cell_type": "code",
   "execution_count": 328,
   "metadata": {},
   "outputs": [],
   "source": [
    "na_relevant_games = relevant_games[relevant_games['na_sales']>0]"
   ]
  },
  {
   "cell_type": "code",
   "execution_count": 329,
   "metadata": {},
   "outputs": [
    {
     "data": {
      "text/plain": [
       "[['Wii', 479.45],\n",
       " ['NES', 0.0],\n",
       " ['GB', 9.8],\n",
       " ['DS', 377.81],\n",
       " ['X360', 462.42],\n",
       " ['PS3', 290.11],\n",
       " ['PS2', 583.84],\n",
       " ['SNES', 0.0],\n",
       " ['GBA', 187.54],\n",
       " ['PS4', 0.0],\n",
       " ['3DS', 28.18],\n",
       " ['N64', 21.99],\n",
       " ['PS', 67.51],\n",
       " ['XB', 186.69],\n",
       " ['PC', 46.0],\n",
       " ['2600', 9.82],\n",
       " ['PSP', 109.04],\n",
       " ['XOne', 0.0],\n",
       " ['WiiU', 0.0],\n",
       " ['GC', 133.46],\n",
       " ['GEN', 0.0],\n",
       " ['DC', 2.53],\n",
       " ['PSV', 1.6],\n",
       " ['SAT', 0.0],\n",
       " ['SCD', 0.0],\n",
       " ['WS', 0.0],\n",
       " ['NG', 0.0],\n",
       " ['TG16', 0.0],\n",
       " ['3DO', 0.0],\n",
       " ['GG', 0.0],\n",
       " ['PCFX', 0.0]]"
      ]
     },
     "metadata": {},
     "output_type": "display_data"
    }
   ],
   "source": [
    "platform_sales.clear()\n",
    "for platform in platform_choice:\n",
    "    platform_sales.append([platform,round(na_relevant_games[(na_relevant_games['platform']==platform)]['na_sales'].sum(),2)])\n",
    "display(platform_sales)"
   ]
  },
  {
   "cell_type": "markdown",
   "metadata": {},
   "source": [
    "Based on the sales list of each platform in North America, the top 5 most popular platforms are \n",
    "1. PS2 \n",
    "2. Wii\n",
    "3. XBOX 360 \n",
    "4. DS\n",
    "5. PS3 \n",
    "I will now also count how many games were sold on each platform. This will ensure that the sales of very popular games do not leave the less popular games out of the picture."
   ]
  },
  {
   "cell_type": "code",
   "execution_count": 330,
   "metadata": {},
   "outputs": [
    {
     "data": {
      "text/plain": [
       "'PS2: 1648'"
      ]
     },
     "metadata": {},
     "output_type": "display_data"
    },
    {
     "data": {
      "text/plain": [
       "'Wii: 1114'"
      ]
     },
     "metadata": {},
     "output_type": "display_data"
    },
    {
     "data": {
      "text/plain": [
       "'X360: 874'"
      ]
     },
     "metadata": {},
     "output_type": "display_data"
    },
    {
     "data": {
      "text/plain": [
       "'DS: 1514'"
      ]
     },
     "metadata": {},
     "output_type": "display_data"
    },
    {
     "data": {
      "text/plain": [
       "'PS3: 694'"
      ]
     },
     "metadata": {},
     "output_type": "display_data"
    }
   ],
   "source": [
    "for platform in ['PS2','Wii','X360','DS','PS3']:\n",
    "    count = na_relevant_games[na_relevant_games['platform']==platform]['platform'].count()\n",
    "    display(f'{platform}: {count}')"
   ]
  },
  {
   "cell_type": "markdown",
   "metadata": {},
   "source": [
    "Based on just number of games sold on each of the 5 platforms, the popularity ranking is:\n",
    "1. PS2\n",
    "2. DS\n",
    "3. Wii\n",
    "4. XBOX 360\n",
    "5. PS3 \n",
    "To make a final conclusion, I will make boxplot distributions of each of the sales of the platforms."
   ]
  },
  {
   "cell_type": "code",
   "execution_count": 331,
   "metadata": {},
   "outputs": [
    {
     "name": "stderr",
     "output_type": "stream",
     "text": [
      "/tmp/ipykernel_44/3484332577.py:2: SettingWithCopyWarning: \n",
      "A value is trying to be set on a copy of a slice from a DataFrame.\n",
      "Try using .loc[row_indexer,col_indexer] = value instead\n",
      "\n",
      "See the caveats in the documentation: https://pandas.pydata.org/pandas-docs/stable/user_guide/indexing.html#returning-a-view-versus-a-copy\n",
      "  na_relevant_games[platform] = relevant_multiplatform_games[relevant_multiplatform_games['platform']==platform]['na_sales']\n"
     ]
    }
   ],
   "source": [
    "for platform in ['PS2','Wii','X360','DS','PS3']:\n",
    "    na_relevant_games[platform] = relevant_multiplatform_games[relevant_multiplatform_games['platform']==platform]['na_sales']\n",
    "na_sales_by_platform_df = pd.DataFrame(data=na_relevant_games[['PS2','Wii','X360','DS','PS3']],columns=['PS2','Wii','X360','DS','PS3'])\n",
    "na_relevant_games = na_relevant_games.drop(columns=['PS2','Wii','X360','DS','PS3'])"
   ]
  },
  {
   "cell_type": "code",
   "execution_count": 332,
   "metadata": {},
   "outputs": [
    {
     "data": {
      "text/plain": [
       "<AxesSubplot:title={'center':'Sales by Platform Without Outliers'}>"
      ]
     },
     "execution_count": 332,
     "metadata": {},
     "output_type": "execute_result"
    },
    {
     "data": {
      "image/png": "[encoded data removed]",
      "text/plain": [
       "<Figure size 432x288 with 1 Axes>"
      ]
     },
     "metadata": {
      "needs_background": "light"
     },
     "output_type": "display_data"
    },
    {
     "data": {
      "image/png": "[encoded data removed]",
      "text/plain": [
       "<Figure size 432x288 with 1 Axes>"
      ]
     },
     "metadata": {
      "needs_background": "light"
     },
     "output_type": "display_data"
    }
   ],
   "source": [
    "na_sales_by_platform_df[['PS2','Wii','X360','DS','PS3']].plot(\n",
    "    kind='box',\n",
    "    title='Sales by Platform With Outliers',\n",
    "    vert=False,\n",
    "    showfliers=True\n",
    ")\n",
    "na_sales_by_platform_df[['PS2','Wii','X360','DS','PS3']].plot(\n",
    "    kind='box',\n",
    "    title='Sales by Platform Without Outliers',\n",
    "    vert=False,\n",
    "    showfliers=False\n",
    ")"
   ]
  },
  {
   "cell_type": "markdown",
   "metadata": {},
   "source": []
  },
  {
   "cell_type": "markdown",
   "metadata": {},
   "source": [
    "### Europe Platforms"
   ]
  },
  {
   "cell_type": "code",
   "execution_count": 333,
   "metadata": {},
   "outputs": [],
   "source": [
    "eu_relevant_games = relevant_games[relevant_games['eu_sales']>0]"
   ]
  },
  {
   "cell_type": "code",
   "execution_count": 334,
   "metadata": {},
   "outputs": [
    {
     "data": {
      "text/plain": [
       "[['Wii', 242.26],\n",
       " ['NES', 0.0],\n",
       " ['GB', 5.5],\n",
       " ['DS', 177.33],\n",
       " ['X360', 194.56],\n",
       " ['PS3', 217.35],\n",
       " ['PS2', 329.58],\n",
       " ['SNES', 0.0],\n",
       " ['GBA', 75.25],\n",
       " ['PS4', 0.0],\n",
       " ['3DS', 18.56],\n",
       " ['N64', 6.16],\n",
       " ['PS', 48.16],\n",
       " ['XB', 60.95],\n",
       " ['PC', 57.2],\n",
       " ['2600', 0.61],\n",
       " ['PSP', 64.21],\n",
       " ['XOne', 0.0],\n",
       " ['WiiU', 0.0],\n",
       " ['GC', 38.71],\n",
       " ['GEN', 0.0],\n",
       " ['DC', 0.79],\n",
       " ['PSV', 1.76],\n",
       " ['SAT', 0.0],\n",
       " ['SCD', 0.0],\n",
       " ['WS', 0.0],\n",
       " ['NG', 0.0],\n",
       " ['TG16', 0.0],\n",
       " ['3DO', 0.0],\n",
       " ['GG', 0.0],\n",
       " ['PCFX', 0.0]]"
      ]
     },
     "metadata": {},
     "output_type": "display_data"
    }
   ],
   "source": [
    "platform_sales.clear()\n",
    "for platform in platform_choice:\n",
    "    platform_sales.append([platform,round(na_relevant_games[(na_relevant_games['platform']==platform)]['eu_sales'].sum(),2)])\n",
    "display(platform_sales)"
   ]
  },
  {
   "cell_type": "markdown",
   "metadata": {},
   "source": [
    "Based on the sales list of each platform in Europe, the top 5 most popular platforms are \n",
    "1. PS2 \n",
    "2. Wii\n",
    "3. PS3 \n",
    "4. XBOX 360\n",
    "5. DS\n",
    "I will now also count how many games were sold on each platform. This will ensure that the sales of very popular games do not leave the less popular games out of the picture."
   ]
  },
  {
   "cell_type": "code",
   "execution_count": 335,
   "metadata": {},
   "outputs": [
    {
     "data": {
      "text/plain": [
       "'PS2: 1635'"
      ]
     },
     "metadata": {},
     "output_type": "display_data"
    },
    {
     "data": {
      "text/plain": [
       "'Wii: 689'"
      ]
     },
     "metadata": {},
     "output_type": "display_data"
    },
    {
     "data": {
      "text/plain": [
       "'X360: 730'"
      ]
     },
     "metadata": {},
     "output_type": "display_data"
    },
    {
     "data": {
      "text/plain": [
       "'DS: 742'"
      ]
     },
     "metadata": {},
     "output_type": "display_data"
    },
    {
     "data": {
      "text/plain": [
       "'PS3: 652'"
      ]
     },
     "metadata": {},
     "output_type": "display_data"
    }
   ],
   "source": [
    "for platform in ['PS2','Wii','X360','DS','PS3']:\n",
    "    count = eu_relevant_games[eu_relevant_games['platform']==platform]['platform'].count()\n",
    "    display(f'{platform}: {count}')"
   ]
  },
  {
   "cell_type": "markdown",
   "metadata": {},
   "source": [
    "Based on just number of games sold on each of the 5 platforms, the popularity ranking is:\n",
    "1. PS2\n",
    "2. DS\n",
    "3. XBOX 360\n",
    "4. Wii\n",
    "5. PS3\n",
    "To make a final conclusion, I will make boxplot distributions of each of the sales of the platforms."
   ]
  },
  {
   "cell_type": "code",
   "execution_count": 336,
   "metadata": {},
   "outputs": [
    {
     "name": "stderr",
     "output_type": "stream",
     "text": [
      "/tmp/ipykernel_44/1785026699.py:2: SettingWithCopyWarning: \n",
      "A value is trying to be set on a copy of a slice from a DataFrame.\n",
      "Try using .loc[row_indexer,col_indexer] = value instead\n",
      "\n",
      "See the caveats in the documentation: https://pandas.pydata.org/pandas-docs/stable/user_guide/indexing.html#returning-a-view-versus-a-copy\n",
      "  eu_relevant_games[platform] = relevant_multiplatform_games[relevant_multiplatform_games['platform']==platform]['eu_sales']\n"
     ]
    }
   ],
   "source": [
    "for platform in ['PS2','Wii','X360','DS','PS3']:\n",
    "    eu_relevant_games[platform] = relevant_multiplatform_games[relevant_multiplatform_games['platform']==platform]['eu_sales']\n",
    "eu_sales_by_platform_df = pd.DataFrame(data=eu_relevant_games[['PS2','Wii','X360','DS','PS3']],columns=['PS2','Wii','X360','DS','PS3'])\n",
    "eu_relevant_games = eu_relevant_games.drop(columns=['PS2','Wii','X360','DS','PS3'])"
   ]
  },
  {
   "cell_type": "code",
   "execution_count": 337,
   "metadata": {},
   "outputs": [
    {
     "data": {
      "text/plain": [
       "<AxesSubplot:title={'center':'Sales by Platform Without Outliers'}>"
      ]
     },
     "execution_count": 337,
     "metadata": {},
     "output_type": "execute_result"
    },
    {
     "data": {
      "image/png": "[encoded data removed]",
      "text/plain": [
       "<Figure size 432x288 with 1 Axes>"
      ]
     },
     "metadata": {
      "needs_background": "light"
     },
     "output_type": "display_data"
    },
    {
     "data": {
      "image/png": "[encoded data removed]",
      "text/plain": [
       "<Figure size 432x288 with 1 Axes>"
      ]
     },
     "metadata": {
      "needs_background": "light"
     },
     "output_type": "display_data"
    }
   ],
   "source": [
    "eu_sales_by_platform_df[['PS2','Wii','X360','DS','PS3']].plot(\n",
    "    kind='box',\n",
    "    title='Sales by Platform With Outliers',\n",
    "    vert=False,\n",
    "    showfliers=True\n",
    ")\n",
    "eu_sales_by_platform_df[['PS2','Wii','X360','DS','PS3']].plot(\n",
    "    kind='box',\n",
    "    title='Sales by Platform Without Outliers',\n",
    "    vert=False,\n",
    "    showfliers=False\n",
    ")"
   ]
  },
  {
   "cell_type": "markdown",
   "metadata": {},
   "source": []
  },
  {
   "cell_type": "markdown",
   "metadata": {},
   "source": [
    "### Japan Platforms"
   ]
  },
  {
   "cell_type": "code",
   "execution_count": 338,
   "metadata": {},
   "outputs": [],
   "source": [
    "jp_relevant_games = relevant_games[relevant_games['jp_sales']>0]"
   ]
  },
  {
   "cell_type": "code",
   "execution_count": 339,
   "metadata": {},
   "outputs": [
    {
     "data": {
      "text/plain": [
       "[['Wii', 65.94],\n",
       " ['NES', 0.0],\n",
       " ['GB', 13.01],\n",
       " ['DS', 171.83],\n",
       " ['X360', 10.86],\n",
       " ['PS3', 44.9],\n",
       " ['PS2', 139.2],\n",
       " ['SNES', 0.0],\n",
       " ['GBA', 47.33],\n",
       " ['PS4', 0.0],\n",
       " ['3DS', 12.88],\n",
       " ['N64', 8.71],\n",
       " ['PS', 20.14],\n",
       " ['XB', 1.38],\n",
       " ['PC', 0.08],\n",
       " ['2600', 0.0],\n",
       " ['PSP', 66.31],\n",
       " ['XOne', 0.0],\n",
       " ['WiiU', 0.0],\n",
       " ['GC', 21.58],\n",
       " ['GEN', 0.0],\n",
       " ['DC', 3.96],\n",
       " ['PSV', 0.87],\n",
       " ['SAT', 0.0],\n",
       " ['SCD', 0.0],\n",
       " ['WS', 0.96],\n",
       " ['NG', 0.0],\n",
       " ['TG16', 0.0],\n",
       " ['3DO', 0.0],\n",
       " ['GG', 0.0],\n",
       " ['PCFX', 0.0]]"
      ]
     },
     "metadata": {},
     "output_type": "display_data"
    }
   ],
   "source": [
    "platform_sales.clear()\n",
    "for platform in platform_choice:\n",
    "    platform_sales.append([platform,round(jp_relevant_games[(jp_relevant_games['platform']==platform)]['jp_sales'].sum(),2)])\n",
    "display(platform_sales)"
   ]
  },
  {
   "cell_type": "markdown",
   "metadata": {},
   "source": [
    "Based on the sales list of each platform in Europe, the top 5 most popular platforms are \n",
    "1. DS \n",
    "2. PS2\n",
    "3. PSP \n",
    "4. Wii\n",
    "5. PS3\n",
    "I will now also count how many games were sold on each platform. This will ensure that the sales of very popular games do not leave the less popular games out of the picture."
   ]
  },
  {
   "cell_type": "code",
   "execution_count": 340,
   "metadata": {},
   "outputs": [
    {
     "data": {
      "text/plain": [
       "'PS2: 797'"
      ]
     },
     "metadata": {},
     "output_type": "display_data"
    },
    {
     "data": {
      "text/plain": [
       "'Wii: 263'"
      ]
     },
     "metadata": {},
     "output_type": "display_data"
    },
    {
     "data": {
      "text/plain": [
       "'X360: 301'"
      ]
     },
     "metadata": {},
     "output_type": "display_data"
    },
    {
     "data": {
      "text/plain": [
       "'DS: 756'"
      ]
     },
     "metadata": {},
     "output_type": "display_data"
    },
    {
     "data": {
      "text/plain": [
       "'PS3: 377'"
      ]
     },
     "metadata": {},
     "output_type": "display_data"
    }
   ],
   "source": [
    "for platform in ['PS2','Wii','X360','DS','PS3']:\n",
    "    count = jp_relevant_games[jp_relevant_games['platform']==platform]['platform'].count()\n",
    "    display(f'{platform}: {count}')"
   ]
  },
  {
   "cell_type": "markdown",
   "metadata": {},
   "source": [
    "Based on just number of games sold on each of the 5 platforms, the popularity ranking is:\n",
    "1. PS2\n",
    "2. DS\n",
    "3. PS3\n",
    "4. XBOX 360\n",
    "5. Wii\n",
    "To make a final conclusion, I will make boxplot distributions of each of the sales of the platforms."
   ]
  },
  {
   "cell_type": "code",
   "execution_count": 341,
   "metadata": {},
   "outputs": [
    {
     "name": "stderr",
     "output_type": "stream",
     "text": [
      "/tmp/ipykernel_44/2025769179.py:2: SettingWithCopyWarning: \n",
      "A value is trying to be set on a copy of a slice from a DataFrame.\n",
      "Try using .loc[row_indexer,col_indexer] = value instead\n",
      "\n",
      "See the caveats in the documentation: https://pandas.pydata.org/pandas-docs/stable/user_guide/indexing.html#returning-a-view-versus-a-copy\n",
      "  jp_relevant_games[platform] = relevant_multiplatform_games[relevant_multiplatform_games['platform']==platform]['jp_sales']\n"
     ]
    }
   ],
   "source": [
    "for platform in ['PS2','Wii','X360','DS','PS3']:\n",
    "    jp_relevant_games[platform] = relevant_multiplatform_games[relevant_multiplatform_games['platform']==platform]['jp_sales']\n",
    "jp_sales_by_platform_df = pd.DataFrame(data=jp_relevant_games[['PS2','Wii','X360','DS','PS3']],columns=['PS2','Wii','X360','DS','PS3'])\n",
    "jp_relevant_games = jp_relevant_games.drop(columns=['PS2','Wii','X360','DS','PS3'])"
   ]
  },
  {
   "cell_type": "code",
   "execution_count": 342,
   "metadata": {},
   "outputs": [
    {
     "data": {
      "text/plain": [
       "<AxesSubplot:title={'center':'Sales by Platform Without Outliers'}>"
      ]
     },
     "execution_count": 342,
     "metadata": {},
     "output_type": "execute_result"
    },
    {
     "data": {
      "image/png": "[encoded data removed]",
      "text/plain": [
       "<Figure size 432x288 with 1 Axes>"
      ]
     },
     "metadata": {
      "needs_background": "light"
     },
     "output_type": "display_data"
    },
    {
     "data": {
      "image/png": "[encoded data removed]",
      "text/plain": [
       "<Figure size 432x288 with 1 Axes>"
      ]
     },
     "metadata": {
      "needs_background": "light"
     },
     "output_type": "display_data"
    }
   ],
   "source": [
    "jp_sales_by_platform_df[['PS2','Wii','X360','DS','PS3']].plot(\n",
    "    kind='box',\n",
    "    title='Sales by Platform With Outliers',\n",
    "    vert=False,\n",
    "    showfliers=True\n",
    ")\n",
    "jp_sales_by_platform_df[['PS2','Wii','X360','DS','PS3']].plot(\n",
    "    kind='box',\n",
    "    title='Sales by Platform Without Outliers',\n",
    "    vert=False,\n",
    "    showfliers=False\n",
    ")"
   ]
  },
  {
   "cell_type": "markdown",
   "metadata": {},
   "source": [
    "Based on the total sales in Japan, number of games sold, and sale distribution"
   ]
  },
  {
   "cell_type": "markdown",
   "metadata": {},
   "source": [
    "### North America Genres"
   ]
  },
  {
   "cell_type": "code",
   "execution_count": 343,
   "metadata": {},
   "outputs": [
    {
     "data": {
      "text/plain": [
       "[['Sports', 521.09],\n",
       " ['Racing', 257.58],\n",
       " ['Platform', 233.23],\n",
       " ['Misc', 334.78],\n",
       " ['Simulation', 155.72],\n",
       " ['Action', 590.27],\n",
       " ['Role-Playing', 219.07],\n",
       " ['Puzzle', 64.76],\n",
       " ['Shooter', 357.87],\n",
       " ['Fighting', 143.83],\n",
       " ['Adventure', 76.95],\n",
       " ['Strategy', 42.64]]"
      ]
     },
     "metadata": {},
     "output_type": "display_data"
    }
   ],
   "source": [
    "na_relevant_games_genres_sales = []\n",
    "for genre in na_relevant_games['genre'].unique():\n",
    "    na_relevant_games_genres_sales.append([genre,round(na_relevant_games[(na_relevant_games['genre']==genre)]['na_sales'].sum(),2)])\n",
    "display(na_relevant_games_genres_sales)"
   ]
  },
  {
   "cell_type": "markdown",
   "metadata": {},
   "source": [
    "Based on the sales list of each genre in North America, the top 5 most popular genres are \n",
    "1. Action \n",
    "2. Sports\n",
    "3. Shooter \n",
    "4. Miscellaneous\n",
    "5. Racing\n",
    "I will now also count how many games were sold in each genre. This will ensure that the sales of very popular games do not leave the less popular games out of the picture."
   ]
  },
  {
   "cell_type": "code",
   "execution_count": 344,
   "metadata": {},
   "outputs": [
    {
     "data": {
      "text/plain": [
       "[['Action', 1827],\n",
       " ['Sports', 1463],\n",
       " ['Shooter', 826],\n",
       " ['Misc', 1045],\n",
       " ['Racing', 867]]"
      ]
     },
     "metadata": {},
     "output_type": "display_data"
    }
   ],
   "source": [
    "na_relevant_games_genres_num_games = []\n",
    "for genre in ['Action','Sports','Shooter','Misc','Racing']:\n",
    "    na_relevant_games_genres_num_games.append([genre,na_relevant_games[(na_relevant_games['genre']==genre)]['na_sales'].count()])\n",
    "display(na_relevant_games_genres_num_games)"
   ]
  },
  {
   "cell_type": "markdown",
   "metadata": {},
   "source": [
    "Based on just number of games sold in each of the 5 genres, the popularity ranking is:\n",
    "1. Action\n",
    "2. Sports\n",
    "3. Miscellaneous\n",
    "4. Racing\n",
    "5. Shooter\n",
    "To make a final conclusion, I will make boxplot distributions of each of the sales of the platforms."
   ]
  },
  {
   "cell_type": "code",
   "execution_count": 345,
   "metadata": {},
   "outputs": [],
   "source": [
    "for genre in ['Action','Sports','Shooter','Misc','Racing']:\n",
    "    na_relevant_games[genre] = relevant_multiplatform_games[relevant_multiplatform_games['genre']==genre]['na_sales']\n",
    "na_sales_by_genre_df = pd.DataFrame(data=na_relevant_games[['Action','Sports','Shooter','Misc','Racing']],columns=['Action','Sports','Shooter','Misc','Racing'])\n",
    "na_relevant_games = na_relevant_games.drop(columns=['Action','Sports','Shooter','Misc','Racing'])"
   ]
  },
  {
   "cell_type": "code",
   "execution_count": 346,
   "metadata": {},
   "outputs": [
    {
     "data": {
      "text/plain": [
       "<AxesSubplot:title={'center':'Sales by Genre Without Outliers'}>"
      ]
     },
     "execution_count": 346,
     "metadata": {},
     "output_type": "execute_result"
    },
    {
     "data": {
      "image/png": "[encoded data removed]",
      "text/plain": [
       "<Figure size 432x288 with 1 Axes>"
      ]
     },
     "metadata": {
      "needs_background": "light"
     },
     "output_type": "display_data"
    },
    {
     "data": {
      "image/png": "[encoded data removed]",
      "text/plain": [
       "<Figure size 432x288 with 1 Axes>"
      ]
     },
     "metadata": {
      "needs_background": "light"
     },
     "output_type": "display_data"
    }
   ],
   "source": [
    "na_sales_by_genre_df[['Action','Sports','Shooter','Misc','Racing']].plot(\n",
    "    kind='box',\n",
    "    title='Sales by Genre With Outliers',\n",
    "    vert=False,\n",
    "    showfliers=True\n",
    ")\n",
    "na_sales_by_genre_df[['Action','Sports','Shooter','Misc','Racing']].plot(\n",
    "    kind='box',\n",
    "    title='Sales by Genre Without Outliers',\n",
    "    vert=False,\n",
    "    showfliers=False\n",
    ")"
   ]
  },
  {
   "cell_type": "markdown",
   "metadata": {},
   "source": [
    "### Europe Genres"
   ]
  },
  {
   "cell_type": "code",
   "execution_count": 347,
   "metadata": {},
   "outputs": [
    {
     "data": {
      "text/plain": [
       "[['Sports', 265.07],\n",
       " ['Racing', 162.13],\n",
       " ['Platform', 118.6],\n",
       " ['Misc', 153.79],\n",
       " ['Simulation', 85.44],\n",
       " ['Action', 310.95],\n",
       " ['Role-Playing', 104.36],\n",
       " ['Puzzle', 35.26],\n",
       " ['Shooter', 178.53],\n",
       " ['Fighting', 64.92],\n",
       " ['Adventure', 37.67],\n",
       " ['Strategy', 22.22]]"
      ]
     },
     "metadata": {},
     "output_type": "display_data"
    }
   ],
   "source": [
    "eu_relevant_games_genres_sales = []\n",
    "for genre in eu_relevant_games['genre'].unique():\n",
    "    eu_relevant_games_genres_sales.append([genre,round(na_relevant_games[(na_relevant_games['genre']==genre)]['eu_sales'].sum(),2)])\n",
    "display(eu_relevant_games_genres_sales)"
   ]
  },
  {
   "cell_type": "markdown",
   "metadata": {},
   "source": [
    "Based on the sales list of each genre in Europe, the top 5 most popular genres are \n",
    "1. Action \n",
    "2. Sports\n",
    "3. Shooter \n",
    "4. Racing\n",
    "5. Miscellaneous\n",
    "I will now also count how many games were sold in each genre. This will ensure that the sales of very popular games do not leave the less popular games out of the picture."
   ]
  },
  {
   "cell_type": "code",
   "execution_count": 348,
   "metadata": {},
   "outputs": [
    {
     "data": {
      "text/plain": [
       "[['Action', 1611],\n",
       " ['Sports', 1154],\n",
       " ['Shooter', 751],\n",
       " ['Misc', 782],\n",
       " ['Racing', 758]]"
      ]
     },
     "metadata": {},
     "output_type": "display_data"
    }
   ],
   "source": [
    "eu_relevant_games_genres_num_games = []\n",
    "for genre in ['Action','Sports','Shooter','Misc','Racing']:\n",
    "    eu_relevant_games_genres_num_games.append([genre,eu_relevant_games[(eu_relevant_games['genre']==genre)]['eu_sales'].count()])\n",
    "display(eu_relevant_games_genres_num_games)"
   ]
  },
  {
   "cell_type": "markdown",
   "metadata": {},
   "source": [
    "Based on just number of games sold in each of the 5 genres, the popularity ranking is:\n",
    "1. Action\n",
    "2. Sports\n",
    "3. Miscellaneous\n",
    "4. Racing\n",
    "5. Shooter\n",
    "To make a final conclusion, I will make boxplot distributions of each of the sales of the platforms."
   ]
  },
  {
   "cell_type": "code",
   "execution_count": 349,
   "metadata": {},
   "outputs": [],
   "source": [
    "for genre in ['Action','Sports','Shooter','Misc','Racing']:\n",
    "    eu_relevant_games[genre] = relevant_multiplatform_games[relevant_multiplatform_games['genre']==genre]['eu_sales']\n",
    "eu_sales_by_genre_df = pd.DataFrame(data=eu_relevant_games[['Action','Sports','Shooter','Misc','Racing']],columns=['Action','Sports','Shooter','Misc','Racing'])\n",
    "eu_relevant_games = eu_relevant_games.drop(columns=['Action','Sports','Shooter','Misc','Racing'])"
   ]
  },
  {
   "cell_type": "code",
   "execution_count": 350,
   "metadata": {},
   "outputs": [
    {
     "data": {
      "text/plain": [
       "<AxesSubplot:title={'center':'Sales by Genre Without Outliers'}>"
      ]
     },
     "execution_count": 350,
     "metadata": {},
     "output_type": "execute_result"
    },
    {
     "data": {
      "image/png": "[encoded data removed]",
      "text/plain": [
       "<Figure size 432x288 with 1 Axes>"
      ]
     },
     "metadata": {
      "needs_background": "light"
     },
     "output_type": "display_data"
    },
    {
     "data": {
      "image/png": "[encoded data removed]",
      "text/plain": [
       "<Figure size 432x288 with 1 Axes>"
      ]
     },
     "metadata": {
      "needs_background": "light"
     },
     "output_type": "display_data"
    }
   ],
   "source": [
    "eu_sales_by_genre_df[['Action','Sports','Shooter','Misc','Racing']].plot(\n",
    "    kind='box',\n",
    "    title='Sales by Genre With Outliers',\n",
    "    vert=False,\n",
    "    showfliers=True\n",
    ")\n",
    "eu_sales_by_genre_df[['Action','Sports','Shooter','Misc','Racing']].plot(\n",
    "    kind='box',\n",
    "    title='Sales by Genre Without Outliers',\n",
    "    vert=False,\n",
    "    showfliers=False\n",
    ")"
   ]
  },
  {
   "cell_type": "markdown",
   "metadata": {},
   "source": [
    "### Japan Genres"
   ]
  },
  {
   "cell_type": "code",
   "execution_count": 351,
   "metadata": {},
   "outputs": [
    {
     "data": {
      "text/plain": [
       "[['Sports', 68.48],\n",
       " ['Racing', 25.32],\n",
       " ['Platform', 46.76],\n",
       " ['Misc', 73.66],\n",
       " ['Simulation', 29.91],\n",
       " ['Action', 80.72],\n",
       " ['Role-Playing', 178.29],\n",
       " ['Puzzle', 22.67],\n",
       " ['Shooter', 14.13],\n",
       " ['Fighting', 35.65],\n",
       " ['Adventure', 29.16],\n",
       " ['Strategy', 25.19]]"
      ]
     },
     "metadata": {},
     "output_type": "display_data"
    }
   ],
   "source": [
    "jp_relevant_games_genres_sales = []\n",
    "for genre in jp_relevant_games['genre'].unique():\n",
    "    jp_relevant_games_genres_sales.append([genre,round(jp_relevant_games[(jp_relevant_games['genre']==genre)]['jp_sales'].sum(),2)])\n",
    "display(jp_relevant_games_genres_sales)"
   ]
  },
  {
   "cell_type": "markdown",
   "metadata": {},
   "source": [
    "Based on the sales list of each genre in Europe, the top 5 most popular genres are \n",
    "1. Role-Playing \n",
    "2. Action\n",
    "3. Miscellaneous \n",
    "4. Sports\n",
    "5. Platform\n",
    "I will now also count how many games were sold in each genre. This will ensure that the sales of very popular games do not leave the less popular games out of the picture."
   ]
  },
  {
   "cell_type": "code",
   "execution_count": 352,
   "metadata": {},
   "outputs": [
    {
     "data": {
      "text/plain": [
       "[['Role-Playing', 610],\n",
       " ['Action', 562],\n",
       " ['Misc', 360],\n",
       " ['Sports', 373],\n",
       " ['Platform', 139]]"
      ]
     },
     "metadata": {},
     "output_type": "display_data"
    }
   ],
   "source": [
    "jp_relevant_games_genres_num_games = []\n",
    "for genre in ['Role-Playing','Action','Misc','Sports','Platform']:\n",
    "    jp_relevant_games_genres_num_games.append([genre,jp_relevant_games[(jp_relevant_games['genre']==genre)]['jp_sales'].count()])\n",
    "display(jp_relevant_games_genres_num_games)"
   ]
  },
  {
   "cell_type": "markdown",
   "metadata": {},
   "source": [
    "Based on just number of games sold in each of the 5 genres, the popularity ranking is:\n",
    "1. Role-Playing\n",
    "2. Action\n",
    "3. Sports\n",
    "4. Miscellaneous\n",
    "5. Platform\n",
    "To make a final conclusion, I will make boxplot distributions of each of the sales of the platforms."
   ]
  },
  {
   "cell_type": "code",
   "execution_count": 353,
   "metadata": {},
   "outputs": [],
   "source": [
    "for genre in ['Role-Playing','Action','Misc','Sports','Platform']:\n",
    "    jp_relevant_games[genre] = relevant_multiplatform_games[relevant_multiplatform_games['genre']==genre]['jp_sales']\n",
    "jp_sales_by_genre_df = pd.DataFrame(data=jp_relevant_games[['Role-Playing','Action','Misc','Sports','Platform']],columns=['Role-Playing','Action','Misc','Sports','Platform'])\n",
    "jp_relevant_games = jp_relevant_games.drop(columns=['Role-Playing','Action','Misc','Sports','Platform'])"
   ]
  },
  {
   "cell_type": "code",
   "execution_count": 354,
   "metadata": {},
   "outputs": [
    {
     "data": {
      "text/plain": [
       "<AxesSubplot:title={'center':'Sales by Genre Without Outliers'}>"
      ]
     },
     "execution_count": 354,
     "metadata": {},
     "output_type": "execute_result"
    },
    {
     "data": {
      "image/png": "[encoded data removed]",
      "text/plain": [
       "<Figure size 432x288 with 1 Axes>"
      ]
     },
     "metadata": {
      "needs_background": "light"
     },
     "output_type": "display_data"
    },
    {
     "data": {
      "image/png": "[encoded data removed]",
      "text/plain": [
       "<Figure size 432x288 with 1 Axes>"
      ]
     },
     "metadata": {
      "needs_background": "light"
     },
     "output_type": "display_data"
    }
   ],
   "source": [
    "jp_sales_by_genre_df[['Role-Playing','Action','Misc','Sports','Platform']].plot(\n",
    "    kind='box',\n",
    "    title='Sales by Genre With Outliers',\n",
    "    vert=False,\n",
    "    showfliers=True\n",
    ")\n",
    "jp_sales_by_genre_df[['Role-Playing','Action','Misc','Sports','Platform']].plot(\n",
    "    kind='box',\n",
    "    title='Sales by Genre Without Outliers',\n",
    "    vert=False,\n",
    "    showfliers=False\n",
    ")"
   ]
  },
  {
   "cell_type": "markdown",
   "metadata": {},
   "source": [
    "### ESRB North America"
   ]
  },
  {
   "cell_type": "code",
   "execution_count": 355,
   "metadata": {},
   "outputs": [
    {
     "data": {
      "text/plain": [
       "[['E', 1153.64],\n",
       " ['Unknown', 405.93],\n",
       " ['M', 501.82],\n",
       " ['T', 655.99],\n",
       " ['E10+', 277.62],\n",
       " ['AO', 1.26],\n",
       " ['EC', 1.53]]"
      ]
     },
     "metadata": {},
     "output_type": "display_data"
    }
   ],
   "source": [
    "na_relevant_games_rating_sales = []\n",
    "for rating in na_relevant_games['rating'].unique():\n",
    "    na_relevant_games_rating_sales.append([rating,round(na_relevant_games[(na_relevant_games['rating']==rating)]['na_sales'].sum(),2)])\n",
    "display(na_relevant_games_rating_sales)"
   ]
  },
  {
   "cell_type": "markdown",
   "metadata": {},
   "source": [
    "Based on rating sales alone, it seems like games rated E are the most popular. Hoowever, it's likely that more games are made rated E. Let's make some boxplots to see the distribution of sales of games based on rating."
   ]
  },
  {
   "cell_type": "code",
   "execution_count": 356,
   "metadata": {},
   "outputs": [],
   "source": [
    "for rating in ['E','Unknown','M','T','E10+','AO','EC']:\n",
    "    na_relevant_games[rating] = relevant_multiplatform_games[relevant_multiplatform_games['rating']==rating]['na_sales']\n",
    "na_sales_by_genre_df = pd.DataFrame(data=na_relevant_games[['E','Unknown','M','T','E10+','AO','EC']],columns=['E','Unknown','M','T','E10+','AO','EC'])\n",
    "na_relevant_games = na_relevant_games.drop(columns=['E','Unknown','M','T','E10+','AO','EC'])"
   ]
  },
  {
   "cell_type": "code",
   "execution_count": 357,
   "metadata": {},
   "outputs": [
    {
     "data": {
      "text/plain": [
       "<AxesSubplot:title={'center':'Sales by Rating Without Outliers'}>"
      ]
     },
     "execution_count": 357,
     "metadata": {},
     "output_type": "execute_result"
    },
    {
     "data": {
      "image/png": "[encoded data removed]",
      "text/plain": [
       "<Figure size 432x288 with 1 Axes>"
      ]
     },
     "metadata": {
      "needs_background": "light"
     },
     "output_type": "display_data"
    },
    {
     "data": {
      "image/png": "[encoded data removed]",
      "text/plain": [
       "<Figure size 432x288 with 1 Axes>"
      ]
     },
     "metadata": {
      "needs_background": "light"
     },
     "output_type": "display_data"
    }
   ],
   "source": [
    "na_sales_by_genre_df[['E','Unknown','M','T','E10+','AO','EC']].plot(\n",
    "    kind='box',\n",
    "    title='Sales by Rating With Outliers',\n",
    "    vert=False,\n",
    "    showfliers=True\n",
    ")\n",
    "na_sales_by_genre_df[['E','Unknown','M','T','E10+','AO','EC']].plot(\n",
    "    kind='box',\n",
    "    title='Sales by Rating Without Outliers',\n",
    "    vert=False,\n",
    "    showfliers=False\n",
    ")"
   ]
  },
  {
   "cell_type": "markdown",
   "metadata": {},
   "source": [
    "### ESRB Europe"
   ]
  },
  {
   "cell_type": "code",
   "execution_count": 358,
   "metadata": {},
   "outputs": [
    {
     "data": {
      "text/plain": [
       "[['E', 583.96],\n",
       " ['Unknown', 257.96],\n",
       " ['M', 282.41],\n",
       " ['T', 344.99],\n",
       " ['E10+', 133.13],\n",
       " ['AO', 0.61],\n",
       " ['EC', 0.11],\n",
       " ['RP', 0.08]]"
      ]
     },
     "metadata": {},
     "output_type": "display_data"
    }
   ],
   "source": [
    "eu_relevant_games_rating_sales = []\n",
    "for rating in eu_relevant_games['rating'].unique():\n",
    "    eu_relevant_games_rating_sales.append([rating,round(eu_relevant_games[(eu_relevant_games['rating']==rating)]['eu_sales'].sum(),2)])\n",
    "display(eu_relevant_games_rating_sales)"
   ]
  },
  {
   "cell_type": "code",
   "execution_count": 359,
   "metadata": {},
   "outputs": [],
   "source": [
    "for rating in ['E','Unknown','M','T','E10+','AO','EC']:\n",
    "    eu_relevant_games[rating] = relevant_multiplatform_games[relevant_multiplatform_games['rating']==rating]['eu_sales']\n",
    "eu_sales_by_genre_df = pd.DataFrame(data=eu_relevant_games[['E','Unknown','M','T','E10+','AO','EC']],columns=['E','Unknown','M','T','E10+','AO','EC'])\n",
    "eu_relevant_games = eu_relevant_games.drop(columns=['E','Unknown','M','T','E10+','AO','EC'])"
   ]
  },
  {
   "cell_type": "code",
   "execution_count": 360,
   "metadata": {},
   "outputs": [
    {
     "data": {
      "text/plain": [
       "<AxesSubplot:title={'center':'Sales by Rating Without Outliers'}>"
      ]
     },
     "execution_count": 360,
     "metadata": {},
     "output_type": "execute_result"
    },
    {
     "data": {
      "image/png": "[encoded data removed]",
      "text/plain": [
       "<Figure size 432x288 with 1 Axes>"
      ]
     },
     "metadata": {
      "needs_background": "light"
     },
     "output_type": "display_data"
    },
    {
     "data": {
      "image/png": "[encoded data removed]",
      "text/plain": [
       "<Figure size 432x288 with 1 Axes>"
      ]
     },
     "metadata": {
      "needs_background": "light"
     },
     "output_type": "display_data"
    }
   ],
   "source": [
    "eu_sales_by_genre_df[['E','Unknown','M','T','E10+','AO','EC']].plot(\n",
    "    kind='box',\n",
    "    title='Sales by Rating With Outliers',\n",
    "    vert=False,\n",
    "    showfliers=True\n",
    ")\n",
    "eu_sales_by_genre_df[['E','Unknown','M','T','E10+','AO','EC']].plot(\n",
    "    kind='box',\n",
    "    title='Sales by Rating Without Outliers',\n",
    "    vert=False,\n",
    "    showfliers=False\n",
    ")"
   ]
  },
  {
   "cell_type": "markdown",
   "metadata": {},
   "source": [
    "### ESRB Japan"
   ]
  },
  {
   "cell_type": "code",
   "execution_count": 361,
   "metadata": {},
   "outputs": [
    {
     "data": {
      "text/plain": [
       "[['E', 344.0],\n",
       " ['Unknown', 127.23],\n",
       " ['M', 193.06],\n",
       " ['T', 147.41],\n",
       " ['E10+', 39.72],\n",
       " ['AO', 0.0],\n",
       " ['EC', 0.0]]"
      ]
     },
     "metadata": {},
     "output_type": "display_data"
    }
   ],
   "source": [
    "jp_relevant_games_rating_sales = []\n",
    "for rating in na_relevant_games['rating'].unique():\n",
    "    jp_relevant_games_rating_sales.append([rating,round(jp_relevant_games[(jp_relevant_games['rating']==rating)]['eu_sales'].sum(),2)])\n",
    "display(jp_relevant_games_rating_sales)"
   ]
  },
  {
   "cell_type": "code",
   "execution_count": 362,
   "metadata": {},
   "outputs": [],
   "source": [
    "for rating in ['E','Unknown','M','T','E10+','AO','EC']:\n",
    "    jp_relevant_games[rating] = relevant_multiplatform_games[relevant_multiplatform_games['rating']==rating]['jp_sales']\n",
    "jp_sales_by_genre_df = pd.DataFrame(data=jp_relevant_games[['E','Unknown','M','T','E10+','AO','EC']],columns=['E','Unknown','M','T','E10+','AO','EC'])\n",
    "jp_relevant_games = jp_relevant_games.drop(columns=['E','Unknown','M','T','E10+','AO','EC'])"
   ]
  },
  {
   "cell_type": "code",
   "execution_count": 363,
   "metadata": {},
   "outputs": [
    {
     "data": {
      "text/plain": [
       "<AxesSubplot:title={'center':'Sales by Rating Without Outliers'}>"
      ]
     },
     "execution_count": 363,
     "metadata": {},
     "output_type": "execute_result"
    },
    {
     "data": {
      "image/png": "[encoded data removed]",
      "text/plain": [
       "<Figure size 432x288 with 1 Axes>"
      ]
     },
     "metadata": {
      "needs_background": "light"
     },
     "output_type": "display_data"
    },
    {
     "data": {
      "image/png": "[encoded data removed]",
      "text/plain": [
       "<Figure size 432x288 with 1 Axes>"
      ]
     },
     "metadata": {
      "needs_background": "light"
     },
     "output_type": "display_data"
    }
   ],
   "source": [
    "jp_sales_by_genre_df[['E','Unknown','M','T','E10+','AO','EC']].plot(\n",
    "    kind='box',\n",
    "    title='Sales by Rating With Outliers',\n",
    "    vert=False,\n",
    "    showfliers=True\n",
    ")\n",
    "jp_sales_by_genre_df[['E','Unknown','M','T','E10+','AO','EC']].plot(\n",
    "    kind='box',\n",
    "    title='Sales by Rating Without Outliers',\n",
    "    vert=False,\n",
    "    showfliers=False\n",
    ")"
   ]
  },
  {
   "cell_type": "markdown",
   "metadata": {},
   "source": [
    "## Test Hypotheses"
   ]
  },
  {
   "cell_type": "markdown",
   "metadata": {},
   "source": [
    "### XBOX vs PC"
   ]
  },
  {
   "cell_type": "markdown",
   "metadata": {},
   "source": [
    "The user score is not affected if a game is played on the XBOX One or the PC."
   ]
  },
  {
   "cell_type": "code",
   "execution_count": 364,
   "metadata": {},
   "outputs": [
    {
     "data": {
      "text/plain": [
       "'p-value: 0.01574406892761933'"
      ]
     },
     "metadata": {},
     "output_type": "display_data"
    },
    {
     "data": {
      "text/plain": [
       "'We reject the null hypothesis: user score was affected by the platform chosen.'"
      ]
     },
     "metadata": {},
     "output_type": "display_data"
    }
   ],
   "source": [
    "alpha = 0.05\n",
    "results = stats.ttest_ind(relevant_games[relevant_games['platform']=='XB']['user_score'] , relevant_games[relevant_games['platform']=='PC']['user_score'] , equal_var=True)\n",
    "\n",
    "display(f'p-value: {results.pvalue}')\n",
    "if (results.pvalue < alpha):\n",
    "    display(\"We reject the null hypothesis: user score was affected by the platform chosen.\")\n",
    "else:\n",
    "    display(\"We can't reject the null hypothesis: user score was not significantly affected based on the platform.\")"
   ]
  },
  {
   "cell_type": "markdown",
   "metadata": {},
   "source": [
    "### Action vs Sports"
   ]
  },
  {
   "cell_type": "markdown",
   "metadata": {},
   "source": [
    "The user score is not affected depending on if a game is labeled 'Action' or 'Sports.'"
   ]
  },
  {
   "cell_type": "code",
   "execution_count": 365,
   "metadata": {},
   "outputs": [
    {
     "data": {
      "text/plain": [
       "'p-value: 0.04500898475123876'"
      ]
     },
     "metadata": {},
     "output_type": "display_data"
    },
    {
     "data": {
      "text/plain": [
       "'We reject the null hypothesis: user score was affected by genre.'"
      ]
     },
     "metadata": {},
     "output_type": "display_data"
    }
   ],
   "source": [
    "alpha = 0.05\n",
    "results = stats.ttest_ind(relevant_games[relevant_games['genre']=='Action']['user_score'] , relevant_games[relevant_games['genre']=='Sports']['user_score'] , equal_var=True)\n",
    "\n",
    "display(f'p-value: {results.pvalue}')\n",
    "if (results.pvalue < alpha):\n",
    "    display(\"We reject the null hypothesis: user score was affected by genre.\")\n",
    "else:\n",
    "    display(\"We can't reject the null hypothesis: user score was not significantly affected by the genre.\")"
   ]
  },
  {
   "cell_type": "markdown",
   "metadata": {},
   "source": [
    "I formulated the null hypothesis by asking myself \"Does platform affect the user score?\" and \"Does genre affect the user score?\" Then, I rephrased that question and assumed and rewrote statements that assume there is no relationship between genres, platforms, and user scores."
   ]
  },
  {
   "cell_type": "markdown",
   "metadata": {},
   "source": [
    "The significance level I chose for these tests were 0.05 because if I am telling the company that user ratings are not affected based on genre or platform, I want that to be at least 95% guaranteed. Otherwise, if the scores are affected, we need to take those factors in account and make more games that have a better chance of impressing our users."
   ]
  },
  {
   "cell_type": "markdown",
   "metadata": {},
   "source": [
    "## Conclusion"
   ]
  },
  {
   "cell_type": "markdown",
   "metadata": {},
   "source": [
    "Action and sports games are the most popular genres of video games to play worldwide. No matter what platform these games are played on, their ratings by players are not affected. North America contributes the most sales to video games, followed by Europe, and relatively speaking, Japan does not contribute as much. Games that are sold on multiple platforms likely have a most popular platform the game is played on. The PS2 was the most popular platform for the the longest timeline for videogames."
   ]
  }
 ],
 "metadata": {
  "kernelspec": {
   "display_name": "Python 3 (ipykernel)",
   "language": "python",
   "name": "python3"
  },
  "language_info": {
   "codemirror_mode": {
    "name": "ipython",
    "version": 3
   },
   "file_extension": ".py",
   "mimetype": "text/x-python",
   "name": "python",
   "nbconvert_exporter": "python",
   "pygments_lexer": "ipython3",
   "version": "3.9.5"
  },
  "toc": {
   "base_numbering": 1,
   "nav_menu": {},
   "number_sections": true,
   "sideBar": true,
   "skip_h1_title": true,
   "title_cell": "Table of Contents",
   "title_sidebar": "Contents",
   "toc_cell": false,
   "toc_position": {
    "height": "calc(100% - 180px)",
    "left": "10px",
    "top": "150px",
    "width": "223.4px"
   },
   "toc_section_display": true,
   "toc_window_display": true
  },
  "vscode": {
   "interpreter": {
    "hash": "a66b0b608a2acdcc165b449dbda2a33b4a64dee36fda9fa9763fd8080c683be9"
   }
  }
 },
 "nbformat": 4,
 "nbformat_minor": 2
}
